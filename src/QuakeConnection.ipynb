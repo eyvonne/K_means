{
 "cells": [
  {
   "cell_type": "code",
   "execution_count": 21,
   "metadata": {},
   "outputs": [],
   "source": [
    "import numpy as np\n",
    "import scipy as sp\n",
    "from scipy import spatial\n",
    "import matplotlib.pyplot as plt\n",
    "# this will be for ploting and seeing what happening\n",
    "import plotly.graph_objects as go\n",
    "#this is to get the data from my API\n",
    "import requests\n",
    "#manipulating data will be easier if they can pass through a pandas df\n",
    "import pandas as pd"
   ]
  },
  {
   "cell_type": "code",
   "execution_count": 22,
   "metadata": {},
   "outputs": [],
   "source": [
    "from k_nearest_neighbors import KNearestNeighbors"
   ]
  },
  {
   "cell_type": "code",
   "execution_count": 23,
   "metadata": {},
   "outputs": [],
   "source": [
    "#set up to pull data from the API\n",
    "api_url = 'http://quake-ds-production.herokuapp.com'\n",
    "USGS_month = api_url + '/last/usgs/month'\n",
    "EMSC_month = api_url + '/last/emsc/month'"
   ]
  },
  {
   "cell_type": "code",
   "execution_count": 24,
   "metadata": {},
   "outputs": [],
   "source": [
    "emsc_df = pd.DataFrame(requests.get(EMSC_month).json()['message'])\n",
    "usgs_df = pd.DataFrame(requests.get(USGS_month).json()['message'])"
   ]
  },
  {
   "cell_type": "code",
   "execution_count": 25,
   "metadata": {},
   "outputs": [
    {
     "data": {
      "text/html": [
       "<div>\n",
       "<style scoped>\n",
       "    .dataframe tbody tr th:only-of-type {\n",
       "        vertical-align: middle;\n",
       "    }\n",
       "\n",
       "    .dataframe tbody tr th {\n",
       "        vertical-align: top;\n",
       "    }\n",
       "\n",
       "    .dataframe thead th {\n",
       "        text-align: right;\n",
       "    }\n",
       "</style>\n",
       "<table border=\"1\" class=\"dataframe\">\n",
       "  <thead>\n",
       "    <tr style=\"text-align: right;\">\n",
       "      <th></th>\n",
       "      <th>id</th>\n",
       "      <th>lat</th>\n",
       "      <th>lon</th>\n",
       "      <th>mag</th>\n",
       "      <th>place</th>\n",
       "      <th>time</th>\n",
       "    </tr>\n",
       "  </thead>\n",
       "  <tbody>\n",
       "    <tr>\n",
       "      <th>0</th>\n",
       "      <td>103532</td>\n",
       "      <td>34.13</td>\n",
       "      <td>25.65</td>\n",
       "      <td>6.6</td>\n",
       "      <td>CRETE, GREECE</td>\n",
       "      <td>1588423865600</td>\n",
       "    </tr>\n",
       "    <tr>\n",
       "      <th>1</th>\n",
       "      <td>103853</td>\n",
       "      <td>-15.46</td>\n",
       "      <td>-70.51</td>\n",
       "      <td>5.7</td>\n",
       "      <td>SOUTHERN PERU</td>\n",
       "      <td>1588466667700</td>\n",
       "    </tr>\n",
       "    <tr>\n",
       "      <th>2</th>\n",
       "      <td>103940</td>\n",
       "      <td>35.62</td>\n",
       "      <td>140.72</td>\n",
       "      <td>5.6</td>\n",
       "      <td>NEAR EAST COAST OF HONSHU, JAPAN</td>\n",
       "      <td>1588597669100</td>\n",
       "    </tr>\n",
       "    <tr>\n",
       "      <th>3</th>\n",
       "      <td>104313</td>\n",
       "      <td>-6.85</td>\n",
       "      <td>129.83</td>\n",
       "      <td>6.8</td>\n",
       "      <td>BANDA SEA</td>\n",
       "      <td>1588773235300</td>\n",
       "    </tr>\n",
       "    <tr>\n",
       "      <th>4</th>\n",
       "      <td>104532</td>\n",
       "      <td>-4.47</td>\n",
       "      <td>154.71</td>\n",
       "      <td>6.1</td>\n",
       "      <td>BOUGAINVILLE REGION, P.N.G.</td>\n",
       "      <td>1588850480900</td>\n",
       "    </tr>\n",
       "  </tbody>\n",
       "</table>\n",
       "</div>"
      ],
      "text/plain": [
       "       id    lat     lon  mag                             place           time\n",
       "0  103532  34.13   25.65  6.6                     CRETE, GREECE  1588423865600\n",
       "1  103853 -15.46  -70.51  5.7                     SOUTHERN PERU  1588466667700\n",
       "2  103940  35.62  140.72  5.6  NEAR EAST COAST OF HONSHU, JAPAN  1588597669100\n",
       "3  104313  -6.85  129.83  6.8                         BANDA SEA  1588773235300\n",
       "4  104532  -4.47  154.71  6.1       BOUGAINVILLE REGION, P.N.G.  1588850480900"
      ]
     },
     "execution_count": 25,
     "metadata": {},
     "output_type": "execute_result"
    }
   ],
   "source": [
    "neighbors = KNearestNeighbors(5)\n",
    "neighbors.fit(emsc_df.values)\n",
    "#neighbors.predict([usgs_df.iloc[0]])\n",
    "emsc_df.head()"
   ]
  },
  {
   "cell_type": "code",
   "execution_count": 26,
   "metadata": {},
   "outputs": [
    {
     "data": {
      "text/plain": [
       "id              103532\n",
       "lat              34.13\n",
       "lon              25.65\n",
       "mag                6.6\n",
       "place    CRETE, GREECE\n",
       "time     1588423865600\n",
       "Name: 0, dtype: object"
      ]
     },
     "execution_count": 26,
     "metadata": {},
     "output_type": "execute_result"
    }
   ],
   "source": [
    "target = emsc_df.iloc[0]\n",
    "neighbors = emsc_df.iloc[1:6]\n",
    "target"
   ]
  },
  {
   "cell_type": "markdown",
   "metadata": {},
   "source": [
    "I want to fit on lat, lon, and mag and use time as a threshold value that hopefully won't really get touched"
   ]
  },
  {
   "cell_type": "code",
   "execution_count": 7,
   "metadata": {},
   "outputs": [
    {
     "data": {
      "text/plain": [
       "id                                  32820\n",
       "lat                                17.938\n",
       "lon                               -66.734\n",
       "mag                                   5.5\n",
       "place    6km SSW of Tallaboa, Puerto Rico\n",
       "time                        1588417997000\n",
       "Name: 0, dtype: object"
      ]
     },
     "execution_count": 7,
     "metadata": {},
     "output_type": "execute_result"
    }
   ],
   "source": [
    "usgs_df.iloc[0]"
   ]
  },
  {
   "cell_type": "code",
   "execution_count": 27,
   "metadata": {},
   "outputs": [
    {
     "data": {
      "application/vnd.plotly.v1+json": {
       "config": {
        "plotlyServerURL": "https://plot.ly"
       },
       "data": [
        {
         "lat": [
          34.13,
          -15.46,
          35.62,
          -6.85,
          -4.47,
          -29.55,
          -55.51,
          36.39,
          -22.83,
          -6.03,
          -12.03,
          -20.74,
          -35.82,
          -15.52,
          38.16,
          -16.22,
          40.84,
          35.2,
          22.48,
          -14.92,
          -40.39,
          -47.47,
          -17.09,
          -27.68,
          -22.34
         ],
         "lon": [
          25.65,
          -70.51,
          140.72,
          129.83,
          154.71,
          76.52,
          -29.33,
          141.03,
          -68.03,
          129.94,
          166.59,
          -176.58,
          -102.92,
          -173.05,
          -117.86,
          167.96,
          -127.33,
          20.22,
          -107.92,
          66.7,
          174.97,
          -12.26,
          167.88,
          -174.9,
          -174.36
         ],
         "marker": {
          "size": 14
         },
         "mode": "markers",
         "text": [
          [
           6.6,
           103532
          ],
          [
           5.7,
           103853
          ],
          [
           5.6,
           103940
          ],
          [
           6.8,
           104313
          ],
          [
           6.1,
           104532
          ],
          [
           5.5,
           104647
          ],
          [
           5.6,
           104809
          ],
          [
           5.8,
           105007
          ],
          [
           5.5,
           105059
          ],
          [
           5.6,
           105412
          ],
          [
           6.6,
           105427
          ],
          [
           6.2,
           105697
          ],
          [
           5.7,
           106047
          ],
          [
           5.8,
           106306
          ],
          [
           6.5,
           106386
          ],
          [
           5.6,
           106859
          ],
          [
           5.5,
           107491
          ],
          [
           5.8,
           107910
          ],
          [
           6.1,
           108695
          ],
          [
           5.6,
           108837
          ],
          [
           5.5,
           109135
          ],
          [
           5.9,
           109321
          ],
          [
           6.1,
           110023
          ],
          [
           5.8,
           110223
          ],
          [
           5.9,
           110259
          ]
         ],
         "type": "scattermapbox"
        },
        {
         "lat": [
          17.938,
          17.8942,
          34.2045,
          -15.3244,
          31.4218,
          35.6765,
          -14.697,
          -15.1704,
          -6.7949,
          -4.4543,
          -29.4323,
          -22.7535,
          36.4028,
          -6.0661,
          -12.12,
          -12.1,
          -12.1059,
          -35.7934,
          38.1687,
          38.1648,
          38.1612,
          38.1588,
          -16.229,
          -15.6128,
          -16.0936,
          53.8282,
          40.801,
          40.8281,
          34.2018,
          35.149,
          35.1547,
          22.4028,
          -14.812,
          -47.395,
          -47.4139,
          14.6838,
          -40.3929,
          -18.7322,
          -17.1569,
          -22.236,
          -27.6755
         ],
         "lon": [
          -66.734,
          -66.6794,
          25.7124,
          -70.4168,
          128.8199,
          140.8939,
          -172.412,
          -172.9345,
          129.8613,
          154.7127,
          76.4736,
          -68.1578,
          141.1421,
          129.9186,
          166.516,
          166.5,
          166.5694,
          -102.8879,
          -117.8785,
          -117.88,
          -117.8829,
          -117.8765,
          -172.942,
          -172.9734,
          167.9806,
          -119.575,
          -127.602,
          -127.2301,
          25.526,
          20.2689,
          20.2872,
          -108.1636,
          66.6823,
          -12.2543,
          -12.2226,
          -93.7728,
          174.966,
          168.1028,
          167.8644,
          -174.2851,
          -174.9043
         ],
         "marker": {
          "color": "yellow",
          "size": 9
         },
         "mode": "markers",
         "text": [
          [
           5.5,
           32820
          ],
          [
           5.5,
           32829
          ],
          [
           6.6,
           32863
          ],
          [
           5.7,
           33028
          ],
          [
           5.9,
           33166
          ],
          [
           5.6,
           33494
          ],
          [
           5.6,
           33971
          ],
          [
           5.5,
           33973
          ],
          [
           6.8,
           34232
          ],
          [
           6.1,
           34562
          ],
          [
           5.5,
           35018
          ],
          [
           5.5,
           35644
          ],
          [
           5.8,
           35775
          ],
          [
           5.6,
           35794
          ],
          [
           6.6,
           36653
          ],
          [
           6.6,
           36655
          ],
          [
           6.6,
           36657
          ],
          [
           5.7,
           37054
          ],
          [
           6.4,
           37437
          ],
          [
           5.8,
           37445
          ],
          [
           6.2,
           37449
          ],
          [
           6.4,
           37454
          ],
          [
           6.2,
           37560
          ],
          [
           5.8,
           37562
          ],
          [
           5.9,
           37992
          ],
          [
           5.9,
           38298
          ],
          [
           5.5,
           39440
          ],
          [
           5.5,
           39444
          ],
          [
           5.8,
           39829
          ],
          [
           5.7,
           41042
          ],
          [
           5.7,
           41062
          ],
          [
           6.1,
           42065
          ],
          [
           5.6,
           43251
          ],
          [
           5.8,
           43342
          ],
          [
           5.9,
           43343
          ],
          [
           5.5,
           43389
          ],
          [
           5.6,
           43896
          ],
          [
           6.1,
           45696
          ],
          [
           6.1,
           45703
          ],
          [
           5.9,
           46378
          ],
          [
           5.8,
           46443
          ]
         ],
         "type": "scattermapbox"
        }
       ],
       "layout": {
        "autosize": true,
        "hovermode": "closest",
        "mapbox": {
         "bearing": 0,
         "center": {
          "lat": 0,
          "lon": 0
         },
         "pitch": 0,
         "style": "stamen-terrain",
         "zoom": 0
        },
        "template": {
         "data": {
          "bar": [
           {
            "error_x": {
             "color": "#2a3f5f"
            },
            "error_y": {
             "color": "#2a3f5f"
            },
            "marker": {
             "line": {
              "color": "#E5ECF6",
              "width": 0.5
             }
            },
            "type": "bar"
           }
          ],
          "barpolar": [
           {
            "marker": {
             "line": {
              "color": "#E5ECF6",
              "width": 0.5
             }
            },
            "type": "barpolar"
           }
          ],
          "carpet": [
           {
            "aaxis": {
             "endlinecolor": "#2a3f5f",
             "gridcolor": "white",
             "linecolor": "white",
             "minorgridcolor": "white",
             "startlinecolor": "#2a3f5f"
            },
            "baxis": {
             "endlinecolor": "#2a3f5f",
             "gridcolor": "white",
             "linecolor": "white",
             "minorgridcolor": "white",
             "startlinecolor": "#2a3f5f"
            },
            "type": "carpet"
           }
          ],
          "choropleth": [
           {
            "colorbar": {
             "outlinewidth": 0,
             "ticks": ""
            },
            "type": "choropleth"
           }
          ],
          "contour": [
           {
            "colorbar": {
             "outlinewidth": 0,
             "ticks": ""
            },
            "colorscale": [
             [
              0,
              "#0d0887"
             ],
             [
              0.1111111111111111,
              "#46039f"
             ],
             [
              0.2222222222222222,
              "#7201a8"
             ],
             [
              0.3333333333333333,
              "#9c179e"
             ],
             [
              0.4444444444444444,
              "#bd3786"
             ],
             [
              0.5555555555555556,
              "#d8576b"
             ],
             [
              0.6666666666666666,
              "#ed7953"
             ],
             [
              0.7777777777777778,
              "#fb9f3a"
             ],
             [
              0.8888888888888888,
              "#fdca26"
             ],
             [
              1,
              "#f0f921"
             ]
            ],
            "type": "contour"
           }
          ],
          "contourcarpet": [
           {
            "colorbar": {
             "outlinewidth": 0,
             "ticks": ""
            },
            "type": "contourcarpet"
           }
          ],
          "heatmap": [
           {
            "colorbar": {
             "outlinewidth": 0,
             "ticks": ""
            },
            "colorscale": [
             [
              0,
              "#0d0887"
             ],
             [
              0.1111111111111111,
              "#46039f"
             ],
             [
              0.2222222222222222,
              "#7201a8"
             ],
             [
              0.3333333333333333,
              "#9c179e"
             ],
             [
              0.4444444444444444,
              "#bd3786"
             ],
             [
              0.5555555555555556,
              "#d8576b"
             ],
             [
              0.6666666666666666,
              "#ed7953"
             ],
             [
              0.7777777777777778,
              "#fb9f3a"
             ],
             [
              0.8888888888888888,
              "#fdca26"
             ],
             [
              1,
              "#f0f921"
             ]
            ],
            "type": "heatmap"
           }
          ],
          "heatmapgl": [
           {
            "colorbar": {
             "outlinewidth": 0,
             "ticks": ""
            },
            "colorscale": [
             [
              0,
              "#0d0887"
             ],
             [
              0.1111111111111111,
              "#46039f"
             ],
             [
              0.2222222222222222,
              "#7201a8"
             ],
             [
              0.3333333333333333,
              "#9c179e"
             ],
             [
              0.4444444444444444,
              "#bd3786"
             ],
             [
              0.5555555555555556,
              "#d8576b"
             ],
             [
              0.6666666666666666,
              "#ed7953"
             ],
             [
              0.7777777777777778,
              "#fb9f3a"
             ],
             [
              0.8888888888888888,
              "#fdca26"
             ],
             [
              1,
              "#f0f921"
             ]
            ],
            "type": "heatmapgl"
           }
          ],
          "histogram": [
           {
            "marker": {
             "colorbar": {
              "outlinewidth": 0,
              "ticks": ""
             }
            },
            "type": "histogram"
           }
          ],
          "histogram2d": [
           {
            "colorbar": {
             "outlinewidth": 0,
             "ticks": ""
            },
            "colorscale": [
             [
              0,
              "#0d0887"
             ],
             [
              0.1111111111111111,
              "#46039f"
             ],
             [
              0.2222222222222222,
              "#7201a8"
             ],
             [
              0.3333333333333333,
              "#9c179e"
             ],
             [
              0.4444444444444444,
              "#bd3786"
             ],
             [
              0.5555555555555556,
              "#d8576b"
             ],
             [
              0.6666666666666666,
              "#ed7953"
             ],
             [
              0.7777777777777778,
              "#fb9f3a"
             ],
             [
              0.8888888888888888,
              "#fdca26"
             ],
             [
              1,
              "#f0f921"
             ]
            ],
            "type": "histogram2d"
           }
          ],
          "histogram2dcontour": [
           {
            "colorbar": {
             "outlinewidth": 0,
             "ticks": ""
            },
            "colorscale": [
             [
              0,
              "#0d0887"
             ],
             [
              0.1111111111111111,
              "#46039f"
             ],
             [
              0.2222222222222222,
              "#7201a8"
             ],
             [
              0.3333333333333333,
              "#9c179e"
             ],
             [
              0.4444444444444444,
              "#bd3786"
             ],
             [
              0.5555555555555556,
              "#d8576b"
             ],
             [
              0.6666666666666666,
              "#ed7953"
             ],
             [
              0.7777777777777778,
              "#fb9f3a"
             ],
             [
              0.8888888888888888,
              "#fdca26"
             ],
             [
              1,
              "#f0f921"
             ]
            ],
            "type": "histogram2dcontour"
           }
          ],
          "mesh3d": [
           {
            "colorbar": {
             "outlinewidth": 0,
             "ticks": ""
            },
            "type": "mesh3d"
           }
          ],
          "parcoords": [
           {
            "line": {
             "colorbar": {
              "outlinewidth": 0,
              "ticks": ""
             }
            },
            "type": "parcoords"
           }
          ],
          "scatter": [
           {
            "marker": {
             "colorbar": {
              "outlinewidth": 0,
              "ticks": ""
             }
            },
            "type": "scatter"
           }
          ],
          "scatter3d": [
           {
            "line": {
             "colorbar": {
              "outlinewidth": 0,
              "ticks": ""
             }
            },
            "marker": {
             "colorbar": {
              "outlinewidth": 0,
              "ticks": ""
             }
            },
            "type": "scatter3d"
           }
          ],
          "scattercarpet": [
           {
            "marker": {
             "colorbar": {
              "outlinewidth": 0,
              "ticks": ""
             }
            },
            "type": "scattercarpet"
           }
          ],
          "scattergeo": [
           {
            "marker": {
             "colorbar": {
              "outlinewidth": 0,
              "ticks": ""
             }
            },
            "type": "scattergeo"
           }
          ],
          "scattergl": [
           {
            "marker": {
             "colorbar": {
              "outlinewidth": 0,
              "ticks": ""
             }
            },
            "type": "scattergl"
           }
          ],
          "scattermapbox": [
           {
            "marker": {
             "colorbar": {
              "outlinewidth": 0,
              "ticks": ""
             }
            },
            "type": "scattermapbox"
           }
          ],
          "scatterpolar": [
           {
            "marker": {
             "colorbar": {
              "outlinewidth": 0,
              "ticks": ""
             }
            },
            "type": "scatterpolar"
           }
          ],
          "scatterpolargl": [
           {
            "marker": {
             "colorbar": {
              "outlinewidth": 0,
              "ticks": ""
             }
            },
            "type": "scatterpolargl"
           }
          ],
          "scatterternary": [
           {
            "marker": {
             "colorbar": {
              "outlinewidth": 0,
              "ticks": ""
             }
            },
            "type": "scatterternary"
           }
          ],
          "surface": [
           {
            "colorbar": {
             "outlinewidth": 0,
             "ticks": ""
            },
            "colorscale": [
             [
              0,
              "#0d0887"
             ],
             [
              0.1111111111111111,
              "#46039f"
             ],
             [
              0.2222222222222222,
              "#7201a8"
             ],
             [
              0.3333333333333333,
              "#9c179e"
             ],
             [
              0.4444444444444444,
              "#bd3786"
             ],
             [
              0.5555555555555556,
              "#d8576b"
             ],
             [
              0.6666666666666666,
              "#ed7953"
             ],
             [
              0.7777777777777778,
              "#fb9f3a"
             ],
             [
              0.8888888888888888,
              "#fdca26"
             ],
             [
              1,
              "#f0f921"
             ]
            ],
            "type": "surface"
           }
          ],
          "table": [
           {
            "cells": {
             "fill": {
              "color": "#EBF0F8"
             },
             "line": {
              "color": "white"
             }
            },
            "header": {
             "fill": {
              "color": "#C8D4E3"
             },
             "line": {
              "color": "white"
             }
            },
            "type": "table"
           }
          ]
         },
         "layout": {
          "annotationdefaults": {
           "arrowcolor": "#2a3f5f",
           "arrowhead": 0,
           "arrowwidth": 1
          },
          "colorscale": {
           "diverging": [
            [
             0,
             "#8e0152"
            ],
            [
             0.1,
             "#c51b7d"
            ],
            [
             0.2,
             "#de77ae"
            ],
            [
             0.3,
             "#f1b6da"
            ],
            [
             0.4,
             "#fde0ef"
            ],
            [
             0.5,
             "#f7f7f7"
            ],
            [
             0.6,
             "#e6f5d0"
            ],
            [
             0.7,
             "#b8e186"
            ],
            [
             0.8,
             "#7fbc41"
            ],
            [
             0.9,
             "#4d9221"
            ],
            [
             1,
             "#276419"
            ]
           ],
           "sequential": [
            [
             0,
             "#0d0887"
            ],
            [
             0.1111111111111111,
             "#46039f"
            ],
            [
             0.2222222222222222,
             "#7201a8"
            ],
            [
             0.3333333333333333,
             "#9c179e"
            ],
            [
             0.4444444444444444,
             "#bd3786"
            ],
            [
             0.5555555555555556,
             "#d8576b"
            ],
            [
             0.6666666666666666,
             "#ed7953"
            ],
            [
             0.7777777777777778,
             "#fb9f3a"
            ],
            [
             0.8888888888888888,
             "#fdca26"
            ],
            [
             1,
             "#f0f921"
            ]
           ],
           "sequentialminus": [
            [
             0,
             "#0d0887"
            ],
            [
             0.1111111111111111,
             "#46039f"
            ],
            [
             0.2222222222222222,
             "#7201a8"
            ],
            [
             0.3333333333333333,
             "#9c179e"
            ],
            [
             0.4444444444444444,
             "#bd3786"
            ],
            [
             0.5555555555555556,
             "#d8576b"
            ],
            [
             0.6666666666666666,
             "#ed7953"
            ],
            [
             0.7777777777777778,
             "#fb9f3a"
            ],
            [
             0.8888888888888888,
             "#fdca26"
            ],
            [
             1,
             "#f0f921"
            ]
           ]
          },
          "colorway": [
           "#636efa",
           "#EF553B",
           "#00cc96",
           "#ab63fa",
           "#FFA15A",
           "#19d3f3",
           "#FF6692",
           "#B6E880",
           "#FF97FF",
           "#FECB52"
          ],
          "font": {
           "color": "#2a3f5f"
          },
          "geo": {
           "bgcolor": "white",
           "lakecolor": "white",
           "landcolor": "#E5ECF6",
           "showlakes": true,
           "showland": true,
           "subunitcolor": "white"
          },
          "hoverlabel": {
           "align": "left"
          },
          "hovermode": "closest",
          "mapbox": {
           "style": "light"
          },
          "paper_bgcolor": "white",
          "plot_bgcolor": "#E5ECF6",
          "polar": {
           "angularaxis": {
            "gridcolor": "white",
            "linecolor": "white",
            "ticks": ""
           },
           "bgcolor": "#E5ECF6",
           "radialaxis": {
            "gridcolor": "white",
            "linecolor": "white",
            "ticks": ""
           }
          },
          "scene": {
           "xaxis": {
            "backgroundcolor": "#E5ECF6",
            "gridcolor": "white",
            "gridwidth": 2,
            "linecolor": "white",
            "showbackground": true,
            "ticks": "",
            "zerolinecolor": "white"
           },
           "yaxis": {
            "backgroundcolor": "#E5ECF6",
            "gridcolor": "white",
            "gridwidth": 2,
            "linecolor": "white",
            "showbackground": true,
            "ticks": "",
            "zerolinecolor": "white"
           },
           "zaxis": {
            "backgroundcolor": "#E5ECF6",
            "gridcolor": "white",
            "gridwidth": 2,
            "linecolor": "white",
            "showbackground": true,
            "ticks": "",
            "zerolinecolor": "white"
           }
          },
          "shapedefaults": {
           "line": {
            "color": "#2a3f5f"
           }
          },
          "ternary": {
           "aaxis": {
            "gridcolor": "white",
            "linecolor": "white",
            "ticks": ""
           },
           "baxis": {
            "gridcolor": "white",
            "linecolor": "white",
            "ticks": ""
           },
           "bgcolor": "#E5ECF6",
           "caxis": {
            "gridcolor": "white",
            "linecolor": "white",
            "ticks": ""
           }
          },
          "title": {
           "x": 0.05
          },
          "xaxis": {
           "automargin": true,
           "gridcolor": "white",
           "linecolor": "white",
           "ticks": "",
           "zerolinecolor": "white",
           "zerolinewidth": 2
          },
          "yaxis": {
           "automargin": true,
           "gridcolor": "white",
           "linecolor": "white",
           "ticks": "",
           "zerolinecolor": "white",
           "zerolinewidth": 2
          }
         }
        }
       }
      },
      "image/png": "[encoded data removed]",
      "text/html": [
       "<div>\n",
       "        \n",
       "        \n",
       "            <div id=\"2cf06ceb-7f85-4b6c-b6dc-20483f68b6df\" class=\"plotly-graph-div\" style=\"height:525px; width:100%;\"></div>\n",
       "            <script type=\"text/javascript\">\n",
       "                require([\"plotly\"], function(Plotly) {\n",
       "                    window.PLOTLYENV=window.PLOTLYENV || {};\n",
       "                    \n",
       "                if (document.getElementById(\"2cf06ceb-7f85-4b6c-b6dc-20483f68b6df\")) {\n",
       "                    Plotly.newPlot(\n",
       "                        '2cf06ceb-7f85-4b6c-b6dc-20483f68b6df',\n",
       "                        [{\"lat\": [34.13, -15.46, 35.62, -6.85, -4.47, -29.55, -55.51, 36.39, -22.83, -6.03, -12.03, -20.74, -35.82, -15.52, 38.16, -16.22, 40.84, 35.2, 22.48, -14.92, -40.39, -47.47, -17.09, -27.68, -22.34], \"lon\": [25.65, -70.51, 140.72, 129.83, 154.71, 76.52, -29.33, 141.03, -68.03, 129.94, 166.59, -176.58, -102.92, -173.05, -117.86, 167.96, -127.33, 20.22, -107.92, 66.7, 174.97, -12.26, 167.88, -174.9, -174.36], \"marker\": {\"size\": 14}, \"mode\": \"markers\", \"text\": [[6.6, 103532.0], [5.7, 103853.0], [5.6, 103940.0], [6.8, 104313.0], [6.1, 104532.0], [5.5, 104647.0], [5.6, 104809.0], [5.8, 105007.0], [5.5, 105059.0], [5.6, 105412.0], [6.6, 105427.0], [6.2, 105697.0], [5.7, 106047.0], [5.8, 106306.0], [6.5, 106386.0], [5.6, 106859.0], [5.5, 107491.0], [5.8, 107910.0], [6.1, 108695.0], [5.6, 108837.0], [5.5, 109135.0], [5.9, 109321.0], [6.1, 110023.0], [5.8, 110223.0], [5.9, 110259.0]], \"type\": \"scattermapbox\"}, {\"lat\": [17.938, 17.8942, 34.2045, -15.3244, 31.4218, 35.6765, -14.697, -15.1704, -6.7949, -4.4543, -29.4323, -22.7535, 36.4028, -6.0661, -12.12, -12.1, -12.1059, -35.7934, 38.1687, 38.1648, 38.1612, 38.1588, -16.229, -15.6128, -16.0936, 53.8282, 40.801, 40.8281, 34.2018, 35.149, 35.1547, 22.4028, -14.812, -47.395, -47.4139, 14.6838, -40.3929, -18.7322, -17.1569, -22.236, -27.6755], \"lon\": [-66.734, -66.6794, 25.7124, -70.4168, 128.8199, 140.8939, -172.412, -172.9345, 129.8613, 154.7127, 76.4736, -68.1578, 141.1421, 129.9186, 166.516, 166.5, 166.5694, -102.8879, -117.8785, -117.88, -117.8829, -117.8765, -172.942, -172.9734, 167.9806, -119.575, -127.602, -127.2301, 25.526, 20.2689, 20.2872, -108.1636, 66.6823, -12.2543, -12.2226, -93.7728, 174.966, 168.1028, 167.8644, -174.2851, -174.9043], \"marker\": {\"color\": \"yellow\", \"size\": 9}, \"mode\": \"markers\", \"text\": [[5.5, 32820.0], [5.5, 32829.0], [6.6, 32863.0], [5.7, 33028.0], [5.9, 33166.0], [5.6, 33494.0], [5.6, 33971.0], [5.5, 33973.0], [6.8, 34232.0], [6.1, 34562.0], [5.5, 35018.0], [5.5, 35644.0], [5.8, 35775.0], [5.6, 35794.0], [6.6, 36653.0], [6.6, 36655.0], [6.6, 36657.0], [5.7, 37054.0], [6.4, 37437.0], [5.8, 37445.0], [6.2, 37449.0], [6.4, 37454.0], [6.2, 37560.0], [5.8, 37562.0], [5.9, 37992.0], [5.9, 38298.0], [5.5, 39440.0], [5.5, 39444.0], [5.8, 39829.0], [5.7, 41042.0], [5.7, 41062.0], [6.1, 42065.0], [5.6, 43251.0], [5.8, 43342.0], [5.9, 43343.0], [5.5, 43389.0], [5.6, 43896.0], [6.1, 45696.0], [6.1, 45703.0], [5.9, 46378.0], [5.8, 46443.0]], \"type\": \"scattermapbox\"}],\n",
       "                        {\"hovermode\": \"closest\", \"mapbox\": {\"bearing\": 0, \"center\": {\"lat\": 0, \"lon\": 0}, \"pitch\": 0, \"style\": \"stamen-terrain\", \"zoom\": 0}, \"template\": {\"data\": {\"bar\": [{\"error_x\": {\"color\": \"#2a3f5f\"}, \"error_y\": {\"color\": \"#2a3f5f\"}, \"marker\": {\"line\": {\"color\": \"#E5ECF6\", \"width\": 0.5}}, \"type\": \"bar\"}], \"barpolar\": [{\"marker\": {\"line\": {\"color\": \"#E5ECF6\", \"width\": 0.5}}, \"type\": \"barpolar\"}], \"carpet\": [{\"aaxis\": {\"endlinecolor\": \"#2a3f5f\", \"gridcolor\": \"white\", \"linecolor\": \"white\", \"minorgridcolor\": \"white\", \"startlinecolor\": \"#2a3f5f\"}, \"baxis\": {\"endlinecolor\": \"#2a3f5f\", \"gridcolor\": \"white\", \"linecolor\": \"white\", \"minorgridcolor\": \"white\", \"startlinecolor\": \"#2a3f5f\"}, \"type\": \"carpet\"}], \"choropleth\": [{\"colorbar\": {\"outlinewidth\": 0, \"ticks\": \"\"}, \"type\": \"choropleth\"}], \"contour\": [{\"colorbar\": {\"outlinewidth\": 0, \"ticks\": \"\"}, \"colorscale\": [[0.0, \"#0d0887\"], [0.1111111111111111, \"#46039f\"], [0.2222222222222222, \"#7201a8\"], [0.3333333333333333, \"#9c179e\"], [0.4444444444444444, \"#bd3786\"], [0.5555555555555556, \"#d8576b\"], [0.6666666666666666, \"#ed7953\"], [0.7777777777777778, \"#fb9f3a\"], [0.8888888888888888, \"#fdca26\"], [1.0, \"#f0f921\"]], \"type\": \"contour\"}], \"contourcarpet\": [{\"colorbar\": {\"outlinewidth\": 0, \"ticks\": \"\"}, \"type\": \"contourcarpet\"}], \"heatmap\": [{\"colorbar\": {\"outlinewidth\": 0, \"ticks\": \"\"}, \"colorscale\": [[0.0, \"#0d0887\"], [0.1111111111111111, \"#46039f\"], [0.2222222222222222, \"#7201a8\"], [0.3333333333333333, \"#9c179e\"], [0.4444444444444444, \"#bd3786\"], [0.5555555555555556, \"#d8576b\"], [0.6666666666666666, \"#ed7953\"], [0.7777777777777778, \"#fb9f3a\"], [0.8888888888888888, \"#fdca26\"], [1.0, \"#f0f921\"]], \"type\": \"heatmap\"}], \"heatmapgl\": [{\"colorbar\": {\"outlinewidth\": 0, \"ticks\": \"\"}, \"colorscale\": [[0.0, \"#0d0887\"], [0.1111111111111111, \"#46039f\"], [0.2222222222222222, \"#7201a8\"], [0.3333333333333333, \"#9c179e\"], [0.4444444444444444, \"#bd3786\"], [0.5555555555555556, \"#d8576b\"], [0.6666666666666666, \"#ed7953\"], [0.7777777777777778, \"#fb9f3a\"], [0.8888888888888888, \"#fdca26\"], [1.0, \"#f0f921\"]], \"type\": \"heatmapgl\"}], \"histogram\": [{\"marker\": {\"colorbar\": {\"outlinewidth\": 0, \"ticks\": \"\"}}, \"type\": \"histogram\"}], \"histogram2d\": [{\"colorbar\": {\"outlinewidth\": 0, \"ticks\": \"\"}, \"colorscale\": [[0.0, \"#0d0887\"], [0.1111111111111111, \"#46039f\"], [0.2222222222222222, \"#7201a8\"], [0.3333333333333333, \"#9c179e\"], [0.4444444444444444, \"#bd3786\"], [0.5555555555555556, \"#d8576b\"], [0.6666666666666666, \"#ed7953\"], [0.7777777777777778, \"#fb9f3a\"], [0.8888888888888888, \"#fdca26\"], [1.0, \"#f0f921\"]], \"type\": \"histogram2d\"}], \"histogram2dcontour\": [{\"colorbar\": {\"outlinewidth\": 0, \"ticks\": \"\"}, \"colorscale\": [[0.0, \"#0d0887\"], [0.1111111111111111, \"#46039f\"], [0.2222222222222222, \"#7201a8\"], [0.3333333333333333, \"#9c179e\"], [0.4444444444444444, \"#bd3786\"], [0.5555555555555556, \"#d8576b\"], [0.6666666666666666, \"#ed7953\"], [0.7777777777777778, \"#fb9f3a\"], [0.8888888888888888, \"#fdca26\"], [1.0, \"#f0f921\"]], \"type\": \"histogram2dcontour\"}], \"mesh3d\": [{\"colorbar\": {\"outlinewidth\": 0, \"ticks\": \"\"}, \"type\": \"mesh3d\"}], \"parcoords\": [{\"line\": {\"colorbar\": {\"outlinewidth\": 0, \"ticks\": \"\"}}, \"type\": \"parcoords\"}], \"scatter\": [{\"marker\": {\"colorbar\": {\"outlinewidth\": 0, \"ticks\": \"\"}}, \"type\": \"scatter\"}], \"scatter3d\": [{\"line\": {\"colorbar\": {\"outlinewidth\": 0, \"ticks\": \"\"}}, \"marker\": {\"colorbar\": {\"outlinewidth\": 0, \"ticks\": \"\"}}, \"type\": \"scatter3d\"}], \"scattercarpet\": [{\"marker\": {\"colorbar\": {\"outlinewidth\": 0, \"ticks\": \"\"}}, \"type\": \"scattercarpet\"}], \"scattergeo\": [{\"marker\": {\"colorbar\": {\"outlinewidth\": 0, \"ticks\": \"\"}}, \"type\": \"scattergeo\"}], \"scattergl\": [{\"marker\": {\"colorbar\": {\"outlinewidth\": 0, \"ticks\": \"\"}}, \"type\": \"scattergl\"}], \"scattermapbox\": [{\"marker\": {\"colorbar\": {\"outlinewidth\": 0, \"ticks\": \"\"}}, \"type\": \"scattermapbox\"}], \"scatterpolar\": [{\"marker\": {\"colorbar\": {\"outlinewidth\": 0, \"ticks\": \"\"}}, \"type\": \"scatterpolar\"}], \"scatterpolargl\": [{\"marker\": {\"colorbar\": {\"outlinewidth\": 0, \"ticks\": \"\"}}, \"type\": \"scatterpolargl\"}], \"scatterternary\": [{\"marker\": {\"colorbar\": {\"outlinewidth\": 0, \"ticks\": \"\"}}, \"type\": \"scatterternary\"}], \"surface\": [{\"colorbar\": {\"outlinewidth\": 0, \"ticks\": \"\"}, \"colorscale\": [[0.0, \"#0d0887\"], [0.1111111111111111, \"#46039f\"], [0.2222222222222222, \"#7201a8\"], [0.3333333333333333, \"#9c179e\"], [0.4444444444444444, \"#bd3786\"], [0.5555555555555556, \"#d8576b\"], [0.6666666666666666, \"#ed7953\"], [0.7777777777777778, \"#fb9f3a\"], [0.8888888888888888, \"#fdca26\"], [1.0, \"#f0f921\"]], \"type\": \"surface\"}], \"table\": [{\"cells\": {\"fill\": {\"color\": \"#EBF0F8\"}, \"line\": {\"color\": \"white\"}}, \"header\": {\"fill\": {\"color\": \"#C8D4E3\"}, \"line\": {\"color\": \"white\"}}, \"type\": \"table\"}]}, \"layout\": {\"annotationdefaults\": {\"arrowcolor\": \"#2a3f5f\", \"arrowhead\": 0, \"arrowwidth\": 1}, \"colorscale\": {\"diverging\": [[0, \"#8e0152\"], [0.1, \"#c51b7d\"], [0.2, \"#de77ae\"], [0.3, \"#f1b6da\"], [0.4, \"#fde0ef\"], [0.5, \"#f7f7f7\"], [0.6, \"#e6f5d0\"], [0.7, \"#b8e186\"], [0.8, \"#7fbc41\"], [0.9, \"#4d9221\"], [1, \"#276419\"]], \"sequential\": [[0.0, \"#0d0887\"], [0.1111111111111111, \"#46039f\"], [0.2222222222222222, \"#7201a8\"], [0.3333333333333333, \"#9c179e\"], [0.4444444444444444, \"#bd3786\"], [0.5555555555555556, \"#d8576b\"], [0.6666666666666666, \"#ed7953\"], [0.7777777777777778, \"#fb9f3a\"], [0.8888888888888888, \"#fdca26\"], [1.0, \"#f0f921\"]], \"sequentialminus\": [[0.0, \"#0d0887\"], [0.1111111111111111, \"#46039f\"], [0.2222222222222222, \"#7201a8\"], [0.3333333333333333, \"#9c179e\"], [0.4444444444444444, \"#bd3786\"], [0.5555555555555556, \"#d8576b\"], [0.6666666666666666, \"#ed7953\"], [0.7777777777777778, \"#fb9f3a\"], [0.8888888888888888, \"#fdca26\"], [1.0, \"#f0f921\"]]}, \"colorway\": [\"#636efa\", \"#EF553B\", \"#00cc96\", \"#ab63fa\", \"#FFA15A\", \"#19d3f3\", \"#FF6692\", \"#B6E880\", \"#FF97FF\", \"#FECB52\"], \"font\": {\"color\": \"#2a3f5f\"}, \"geo\": {\"bgcolor\": \"white\", \"lakecolor\": \"white\", \"landcolor\": \"#E5ECF6\", \"showlakes\": true, \"showland\": true, \"subunitcolor\": \"white\"}, \"hoverlabel\": {\"align\": \"left\"}, \"hovermode\": \"closest\", \"mapbox\": {\"style\": \"light\"}, \"paper_bgcolor\": \"white\", \"plot_bgcolor\": \"#E5ECF6\", \"polar\": {\"angularaxis\": {\"gridcolor\": \"white\", \"linecolor\": \"white\", \"ticks\": \"\"}, \"bgcolor\": \"#E5ECF6\", \"radialaxis\": {\"gridcolor\": \"white\", \"linecolor\": \"white\", \"ticks\": \"\"}}, \"scene\": {\"xaxis\": {\"backgroundcolor\": \"#E5ECF6\", \"gridcolor\": \"white\", \"gridwidth\": 2, \"linecolor\": \"white\", \"showbackground\": true, \"ticks\": \"\", \"zerolinecolor\": \"white\"}, \"yaxis\": {\"backgroundcolor\": \"#E5ECF6\", \"gridcolor\": \"white\", \"gridwidth\": 2, \"linecolor\": \"white\", \"showbackground\": true, \"ticks\": \"\", \"zerolinecolor\": \"white\"}, \"zaxis\": {\"backgroundcolor\": \"#E5ECF6\", \"gridcolor\": \"white\", \"gridwidth\": 2, \"linecolor\": \"white\", \"showbackground\": true, \"ticks\": \"\", \"zerolinecolor\": \"white\"}}, \"shapedefaults\": {\"line\": {\"color\": \"#2a3f5f\"}}, \"ternary\": {\"aaxis\": {\"gridcolor\": \"white\", \"linecolor\": \"white\", \"ticks\": \"\"}, \"baxis\": {\"gridcolor\": \"white\", \"linecolor\": \"white\", \"ticks\": \"\"}, \"bgcolor\": \"#E5ECF6\", \"caxis\": {\"gridcolor\": \"white\", \"linecolor\": \"white\", \"ticks\": \"\"}}, \"title\": {\"x\": 0.05}, \"xaxis\": {\"automargin\": true, \"gridcolor\": \"white\", \"linecolor\": \"white\", \"ticks\": \"\", \"zerolinecolor\": \"white\", \"zerolinewidth\": 2}, \"yaxis\": {\"automargin\": true, \"gridcolor\": \"white\", \"linecolor\": \"white\", \"ticks\": \"\", \"zerolinecolor\": \"white\", \"zerolinewidth\": 2}}}},\n",
       "                        {\"responsive\": true}\n",
       "                    ).then(function(){\n",
       "                            \n",
       "var gd = document.getElementById('2cf06ceb-7f85-4b6c-b6dc-20483f68b6df');\n",
       "var x = new MutationObserver(function (mutations, observer) {{\n",
       "        var display = window.getComputedStyle(gd).display;\n",
       "        if (!display || display === 'none') {{\n",
       "            console.log([gd, 'removed!']);\n",
       "            Plotly.purge(gd);\n",
       "            observer.disconnect();\n",
       "        }}\n",
       "}});\n",
       "\n",
       "// Listen for the removal of the full notebook cells\n",
       "var notebookContainer = gd.closest('#notebook-container');\n",
       "if (notebookContainer) {{\n",
       "    x.observe(notebookContainer, {childList: true});\n",
       "}}\n",
       "\n",
       "// Listen for the clearing of the current output cell\n",
       "var outputEl = gd.closest('.output');\n",
       "if (outputEl) {{\n",
       "    x.observe(outputEl, {childList: true});\n",
       "}}\n",
       "\n",
       "                        })\n",
       "                };\n",
       "                });\n",
       "            </script>\n",
       "        </div>"
      ]
     },
     "metadata": {},
     "output_type": "display_data"
    }
   ],
   "source": [
    "fig = go.Figure(go.Scattermapbox(\n",
    "    lat=emsc_df['lat'],\n",
    "    lon=emsc_df['lon'], \n",
    "    mode='markers',\n",
    "    marker=go.scattermapbox.Marker(\n",
    "        size=14\n",
    "    ),\n",
    "    text=emsc_df[['mag', 'id']]))\n",
    "\n",
    "fig.update_layout(\n",
    "    hovermode='closest', \n",
    "    mapbox=dict(\n",
    "        bearing=0,\n",
    "        center=go.layout.mapbox.Center(\n",
    "            lat=0,\n",
    "            lon=0\n",
    "        ),\n",
    "        pitch=0,\n",
    "        zoom=0\n",
    "    ))\n",
    "fig.add_trace(go.Scattermapbox(\n",
    "    lat=usgs_df['lat'],\n",
    "    lon=usgs_df['lon'], \n",
    "    mode='markers',\n",
    "    marker=go.scattermapbox.Marker(\n",
    "        size=9,\n",
    "        color='yellow'\n",
    "    ),\n",
    "    text=usgs_df[['mag', 'id']])\n",
    ")\n",
    "fig.update_layout(mapbox_style=\"stamen-terrain\")\n",
    "fig.show()"
   ]
  },
  {
   "cell_type": "raw",
   "metadata": {},
   "source": [
    "usgs 32863\n",
    "emsc 103532"
   ]
  },
  {
   "cell_type": "markdown",
   "metadata": {},
   "source": [
    "### Observations\n",
    "\n",
    "so in that map there are very clearly earthquakes that overlap with one another, I just need to find a way to identify them. I think I'm going to write a function that takes in two points and then displays them on a map"
   ]
  },
  {
   "cell_type": "code",
   "execution_count": 28,
   "metadata": {},
   "outputs": [],
   "source": [
    "# This is a helper function so that once I have neigbors I can just\n",
    "# plot them to see what is going on. \n",
    "def plot_quakes(target, neighbors, save=False):\n",
    "    fig = go.Figure(go.Scattermapbox(\n",
    "        lat=[target['lat']],\n",
    "        lon=[target['lon']], \n",
    "        mode='markers',\n",
    "        marker=go.scattermapbox.Marker(\n",
    "            size=14\n",
    "        ),\n",
    "        text=[target[['mag', 'time', 'place']]]))\n",
    "\n",
    "    fig.update_layout(\n",
    "        hovermode='closest', \n",
    "        mapbox=dict(\n",
    "            bearing=0,\n",
    "            center=go.layout.mapbox.Center(\n",
    "                lat=0,\n",
    "                lon=0\n",
    "            ),\n",
    "            pitch=0,\n",
    "            zoom=0\n",
    "        ))\n",
    "    fig.add_trace(go.Scattermapbox(\n",
    "        lat=neighbors['lat'],\n",
    "        lon=neighbors['lon'], \n",
    "        mode='markers',\n",
    "        marker=go.scattermapbox.Marker(\n",
    "            size=9,\n",
    "            color='yellow'\n",
    "        ),\n",
    "        text=neighbors[['mag', 'time','place']])\n",
    "    )\n",
    "    fig.update_layout(mapbox_style=\"stamen-terrain\")\n",
    "    if save:\n",
    "        fig.write_image(f'Graphs/{target[\"place\"]}.png')\n",
    "    else:\n",
    "        fig.show()\n",
    "         \n",
    "            \n",
    "def plot_quakes_mul(target, neighbors, save=False):\n",
    "    fig = go.Figure(go.Scattermapbox(\n",
    "        lat=target['lat'],\n",
    "        lon=target['lon'], \n",
    "        mode='markers',\n",
    "        marker=go.scattermapbox.Marker(\n",
    "            size=14\n",
    "        ),\n",
    "        text=[target[['mag', 'time', 'place']]]))\n",
    "\n",
    "    fig.update_layout(\n",
    "        hovermode='closest', \n",
    "        mapbox=dict(\n",
    "            bearing=0,\n",
    "            center=go.layout.mapbox.Center(\n",
    "                lat=0,\n",
    "                lon=0\n",
    "            ),\n",
    "            pitch=0,\n",
    "            zoom=0\n",
    "        ))\n",
    "    fig.add_trace(go.Scattermapbox(\n",
    "        lat=neighbors['lat'],\n",
    "        lon=neighbors['lon'], \n",
    "        mode='markers',\n",
    "        marker=go.scattermapbox.Marker(\n",
    "            size=9,\n",
    "            color='yellow'\n",
    "        ),\n",
    "        text=neighbors[['mag', 'time','place']])\n",
    "    )\n",
    "    fig.update_layout(mapbox_style=\"stamen-terrain\")\n",
    "    if save:\n",
    "        fig.write_image(f'Graphs/{target[\"place\"]}.png')\n",
    "    else:\n",
    "        fig.show()\n",
    "        \n",
    "        \n",
    "def plot_quake(target, neighbors, save=False):\n",
    "    fig = go.Figure(go.Scattermapbox(\n",
    "        lat=[target['lat']],\n",
    "        lon=[target['lon']], \n",
    "        mode='markers',\n",
    "        marker=go.scattermapbox.Marker(\n",
    "            size=14\n",
    "        ),\n",
    "        text=[target[['mag', 'time', 'place']]]))\n",
    "\n",
    "    fig.update_layout(\n",
    "        hovermode='closest', \n",
    "        mapbox=dict(\n",
    "            bearing=0,\n",
    "            center=go.layout.mapbox.Center(\n",
    "                lat=0,\n",
    "                lon=0\n",
    "            ),\n",
    "            pitch=0,\n",
    "            zoom=0\n",
    "        ))\n",
    "    fig.add_trace(go.Scattermapbox(\n",
    "        lat=[neighbors['lat']],\n",
    "        lon=[neighbors['lon']], \n",
    "        mode='markers',\n",
    "        marker=go.scattermapbox.Marker(\n",
    "            size=9,\n",
    "            color='yellow'\n",
    "        ),\n",
    "        text=[neighbors[['mag', 'time','place']]])\n",
    "    )\n",
    "    fig.update_layout(mapbox_style=\"stamen-terrain\")\n",
    "    if save:\n",
    "        fig.write_image(f'Graphs/{target[\"place\"]}.png')\n",
    "    else:\n",
    "        fig.show()"
   ]
  },
  {
   "cell_type": "code",
   "execution_count": 29,
   "metadata": {},
   "outputs": [
    {
     "data": {
      "application/vnd.plotly.v1+json": {
       "config": {
        "plotlyServerURL": "https://plot.ly"
       },
       "data": [
        {
         "lat": [
          34.13
         ],
         "lon": [
          25.65
         ],
         "marker": {
          "size": 14
         },
         "mode": "markers",
         "text": [
          "mag                6.6\ntime     1588423865600\nplace    CRETE, GREECE\nName: 0, dtype: object"
         ],
         "type": "scattermapbox"
        },
        {
         "lat": [
          -15.46,
          35.62,
          -6.85,
          -4.47,
          -29.55
         ],
         "lon": [
          -70.51,
          140.72,
          129.83,
          154.71,
          76.52
         ],
         "marker": {
          "color": "yellow",
          "size": 9
         },
         "mode": "markers",
         "text": [
          [
           5.7,
           1588466667700,
           "SOUTHERN PERU"
          ],
          [
           5.6,
           1588597669100,
           "NEAR EAST COAST OF HONSHU, JAPAN"
          ],
          [
           6.8,
           1588773235300,
           "BANDA SEA"
          ],
          [
           6.1,
           1588850480900,
           "BOUGAINVILLE REGION, P.N.G."
          ],
          [
           5.5,
           1588970740700,
           "MID-INDIAN RIDGE"
          ]
         ],
         "type": "scattermapbox"
        }
       ],
       "layout": {
        "autosize": true,
        "hovermode": "closest",
        "mapbox": {
         "bearing": 0,
         "center": {
          "lat": 0,
          "lon": 0
         },
         "pitch": 0,
         "style": "stamen-terrain",
         "zoom": 0
        },
        "template": {
         "data": {
          "bar": [
           {
            "error_x": {
             "color": "#2a3f5f"
            },
            "error_y": {
             "color": "#2a3f5f"
            },
            "marker": {
             "line": {
              "color": "#E5ECF6",
              "width": 0.5
             }
            },
            "type": "bar"
           }
          ],
          "barpolar": [
           {
            "marker": {
             "line": {
              "color": "#E5ECF6",
              "width": 0.5
             }
            },
            "type": "barpolar"
           }
          ],
          "carpet": [
           {
            "aaxis": {
             "endlinecolor": "#2a3f5f",
             "gridcolor": "white",
             "linecolor": "white",
             "minorgridcolor": "white",
             "startlinecolor": "#2a3f5f"
            },
            "baxis": {
             "endlinecolor": "#2a3f5f",
             "gridcolor": "white",
             "linecolor": "white",
             "minorgridcolor": "white",
             "startlinecolor": "#2a3f5f"
            },
            "type": "carpet"
           }
          ],
          "choropleth": [
           {
            "colorbar": {
             "outlinewidth": 0,
             "ticks": ""
            },
            "type": "choropleth"
           }
          ],
          "contour": [
           {
            "colorbar": {
             "outlinewidth": 0,
             "ticks": ""
            },
            "colorscale": [
             [
              0,
              "#0d0887"
             ],
             [
              0.1111111111111111,
              "#46039f"
             ],
             [
              0.2222222222222222,
              "#7201a8"
             ],
             [
              0.3333333333333333,
              "#9c179e"
             ],
             [
              0.4444444444444444,
              "#bd3786"
             ],
             [
              0.5555555555555556,
              "#d8576b"
             ],
             [
              0.6666666666666666,
              "#ed7953"
             ],
             [
              0.7777777777777778,
              "#fb9f3a"
             ],
             [
              0.8888888888888888,
              "#fdca26"
             ],
             [
              1,
              "#f0f921"
             ]
            ],
            "type": "contour"
           }
          ],
          "contourcarpet": [
           {
            "colorbar": {
             "outlinewidth": 0,
             "ticks": ""
            },
            "type": "contourcarpet"
           }
          ],
          "heatmap": [
           {
            "colorbar": {
             "outlinewidth": 0,
             "ticks": ""
            },
            "colorscale": [
             [
              0,
              "#0d0887"
             ],
             [
              0.1111111111111111,
              "#46039f"
             ],
             [
              0.2222222222222222,
              "#7201a8"
             ],
             [
              0.3333333333333333,
              "#9c179e"
             ],
             [
              0.4444444444444444,
              "#bd3786"
             ],
             [
              0.5555555555555556,
              "#d8576b"
             ],
             [
              0.6666666666666666,
              "#ed7953"
             ],
             [
              0.7777777777777778,
              "#fb9f3a"
             ],
             [
              0.8888888888888888,
              "#fdca26"
             ],
             [
              1,
              "#f0f921"
             ]
            ],
            "type": "heatmap"
           }
          ],
          "heatmapgl": [
           {
            "colorbar": {
             "outlinewidth": 0,
             "ticks": ""
            },
            "colorscale": [
             [
              0,
              "#0d0887"
             ],
             [
              0.1111111111111111,
              "#46039f"
             ],
             [
              0.2222222222222222,
              "#7201a8"
             ],
             [
              0.3333333333333333,
              "#9c179e"
             ],
             [
              0.4444444444444444,
              "#bd3786"
             ],
             [
              0.5555555555555556,
              "#d8576b"
             ],
             [
              0.6666666666666666,
              "#ed7953"
             ],
             [
              0.7777777777777778,
              "#fb9f3a"
             ],
             [
              0.8888888888888888,
              "#fdca26"
             ],
             [
              1,
              "#f0f921"
             ]
            ],
            "type": "heatmapgl"
           }
          ],
          "histogram": [
           {
            "marker": {
             "colorbar": {
              "outlinewidth": 0,
              "ticks": ""
             }
            },
            "type": "histogram"
           }
          ],
          "histogram2d": [
           {
            "colorbar": {
             "outlinewidth": 0,
             "ticks": ""
            },
            "colorscale": [
             [
              0,
              "#0d0887"
             ],
             [
              0.1111111111111111,
              "#46039f"
             ],
             [
              0.2222222222222222,
              "#7201a8"
             ],
             [
              0.3333333333333333,
              "#9c179e"
             ],
             [
              0.4444444444444444,
              "#bd3786"
             ],
             [
              0.5555555555555556,
              "#d8576b"
             ],
             [
              0.6666666666666666,
              "#ed7953"
             ],
             [
              0.7777777777777778,
              "#fb9f3a"
             ],
             [
              0.8888888888888888,
              "#fdca26"
             ],
             [
              1,
              "#f0f921"
             ]
            ],
            "type": "histogram2d"
           }
          ],
          "histogram2dcontour": [
           {
            "colorbar": {
             "outlinewidth": 0,
             "ticks": ""
            },
            "colorscale": [
             [
              0,
              "#0d0887"
             ],
             [
              0.1111111111111111,
              "#46039f"
             ],
             [
              0.2222222222222222,
              "#7201a8"
             ],
             [
              0.3333333333333333,
              "#9c179e"
             ],
             [
              0.4444444444444444,
              "#bd3786"
             ],
             [
              0.5555555555555556,
              "#d8576b"
             ],
             [
              0.6666666666666666,
              "#ed7953"
             ],
             [
              0.7777777777777778,
              "#fb9f3a"
             ],
             [
              0.8888888888888888,
              "#fdca26"
             ],
             [
              1,
              "#f0f921"
             ]
            ],
            "type": "histogram2dcontour"
           }
          ],
          "mesh3d": [
           {
            "colorbar": {
             "outlinewidth": 0,
             "ticks": ""
            },
            "type": "mesh3d"
           }
          ],
          "parcoords": [
           {
            "line": {
             "colorbar": {
              "outlinewidth": 0,
              "ticks": ""
             }
            },
            "type": "parcoords"
           }
          ],
          "scatter": [
           {
            "marker": {
             "colorbar": {
              "outlinewidth": 0,
              "ticks": ""
             }
            },
            "type": "scatter"
           }
          ],
          "scatter3d": [
           {
            "line": {
             "colorbar": {
              "outlinewidth": 0,
              "ticks": ""
             }
            },
            "marker": {
             "colorbar": {
              "outlinewidth": 0,
              "ticks": ""
             }
            },
            "type": "scatter3d"
           }
          ],
          "scattercarpet": [
           {
            "marker": {
             "colorbar": {
              "outlinewidth": 0,
              "ticks": ""
             }
            },
            "type": "scattercarpet"
           }
          ],
          "scattergeo": [
           {
            "marker": {
             "colorbar": {
              "outlinewidth": 0,
              "ticks": ""
             }
            },
            "type": "scattergeo"
           }
          ],
          "scattergl": [
           {
            "marker": {
             "colorbar": {
              "outlinewidth": 0,
              "ticks": ""
             }
            },
            "type": "scattergl"
           }
          ],
          "scattermapbox": [
           {
            "marker": {
             "colorbar": {
              "outlinewidth": 0,
              "ticks": ""
             }
            },
            "type": "scattermapbox"
           }
          ],
          "scatterpolar": [
           {
            "marker": {
             "colorbar": {
              "outlinewidth": 0,
              "ticks": ""
             }
            },
            "type": "scatterpolar"
           }
          ],
          "scatterpolargl": [
           {
            "marker": {
             "colorbar": {
              "outlinewidth": 0,
              "ticks": ""
             }
            },
            "type": "scatterpolargl"
           }
          ],
          "scatterternary": [
           {
            "marker": {
             "colorbar": {
              "outlinewidth": 0,
              "ticks": ""
             }
            },
            "type": "scatterternary"
           }
          ],
          "surface": [
           {
            "colorbar": {
             "outlinewidth": 0,
             "ticks": ""
            },
            "colorscale": [
             [
              0,
              "#0d0887"
             ],
             [
              0.1111111111111111,
              "#46039f"
             ],
             [
              0.2222222222222222,
              "#7201a8"
             ],
             [
              0.3333333333333333,
              "#9c179e"
             ],
             [
              0.4444444444444444,
              "#bd3786"
             ],
             [
              0.5555555555555556,
              "#d8576b"
             ],
             [
              0.6666666666666666,
              "#ed7953"
             ],
             [
              0.7777777777777778,
              "#fb9f3a"
             ],
             [
              0.8888888888888888,
              "#fdca26"
             ],
             [
              1,
              "#f0f921"
             ]
            ],
            "type": "surface"
           }
          ],
          "table": [
           {
            "cells": {
             "fill": {
              "color": "#EBF0F8"
             },
             "line": {
              "color": "white"
             }
            },
            "header": {
             "fill": {
              "color": "#C8D4E3"
             },
             "line": {
              "color": "white"
             }
            },
            "type": "table"
           }
          ]
         },
         "layout": {
          "annotationdefaults": {
           "arrowcolor": "#2a3f5f",
           "arrowhead": 0,
           "arrowwidth": 1
          },
          "colorscale": {
           "diverging": [
            [
             0,
             "#8e0152"
            ],
            [
             0.1,
             "#c51b7d"
            ],
            [
             0.2,
             "#de77ae"
            ],
            [
             0.3,
             "#f1b6da"
            ],
            [
             0.4,
             "#fde0ef"
            ],
            [
             0.5,
             "#f7f7f7"
            ],
            [
             0.6,
             "#e6f5d0"
            ],
            [
             0.7,
             "#b8e186"
            ],
            [
             0.8,
             "#7fbc41"
            ],
            [
             0.9,
             "#4d9221"
            ],
            [
             1,
             "#276419"
            ]
           ],
           "sequential": [
            [
             0,
             "#0d0887"
            ],
            [
             0.1111111111111111,
             "#46039f"
            ],
            [
             0.2222222222222222,
             "#7201a8"
            ],
            [
             0.3333333333333333,
             "#9c179e"
            ],
            [
             0.4444444444444444,
             "#bd3786"
            ],
            [
             0.5555555555555556,
             "#d8576b"
            ],
            [
             0.6666666666666666,
             "#ed7953"
            ],
            [
             0.7777777777777778,
             "#fb9f3a"
            ],
            [
             0.8888888888888888,
             "#fdca26"
            ],
            [
             1,
             "#f0f921"
            ]
           ],
           "sequentialminus": [
            [
             0,
             "#0d0887"
            ],
            [
             0.1111111111111111,
             "#46039f"
            ],
            [
             0.2222222222222222,
             "#7201a8"
            ],
            [
             0.3333333333333333,
             "#9c179e"
            ],
            [
             0.4444444444444444,
             "#bd3786"
            ],
            [
             0.5555555555555556,
             "#d8576b"
            ],
            [
             0.6666666666666666,
             "#ed7953"
            ],
            [
             0.7777777777777778,
             "#fb9f3a"
            ],
            [
             0.8888888888888888,
             "#fdca26"
            ],
            [
             1,
             "#f0f921"
            ]
           ]
          },
          "colorway": [
           "#636efa",
           "#EF553B",
           "#00cc96",
           "#ab63fa",
           "#FFA15A",
           "#19d3f3",
           "#FF6692",
           "#B6E880",
           "#FF97FF",
           "#FECB52"
          ],
          "font": {
           "color": "#2a3f5f"
          },
          "geo": {
           "bgcolor": "white",
           "lakecolor": "white",
           "landcolor": "#E5ECF6",
           "showlakes": true,
           "showland": true,
           "subunitcolor": "white"
          },
          "hoverlabel": {
           "align": "left"
          },
          "hovermode": "closest",
          "mapbox": {
           "style": "light"
          },
          "paper_bgcolor": "white",
          "plot_bgcolor": "#E5ECF6",
          "polar": {
           "angularaxis": {
            "gridcolor": "white",
            "linecolor": "white",
            "ticks": ""
           },
           "bgcolor": "#E5ECF6",
           "radialaxis": {
            "gridcolor": "white",
            "linecolor": "white",
            "ticks": ""
           }
          },
          "scene": {
           "xaxis": {
            "backgroundcolor": "#E5ECF6",
            "gridcolor": "white",
            "gridwidth": 2,
            "linecolor": "white",
            "showbackground": true,
            "ticks": "",
            "zerolinecolor": "white"
           },
           "yaxis": {
            "backgroundcolor": "#E5ECF6",
            "gridcolor": "white",
            "gridwidth": 2,
            "linecolor": "white",
            "showbackground": true,
            "ticks": "",
            "zerolinecolor": "white"
           },
           "zaxis": {
            "backgroundcolor": "#E5ECF6",
            "gridcolor": "white",
            "gridwidth": 2,
            "linecolor": "white",
            "showbackground": true,
            "ticks": "",
            "zerolinecolor": "white"
           }
          },
          "shapedefaults": {
           "line": {
            "color": "#2a3f5f"
           }
          },
          "ternary": {
           "aaxis": {
            "gridcolor": "white",
            "linecolor": "white",
            "ticks": ""
           },
           "baxis": {
            "gridcolor": "white",
            "linecolor": "white",
            "ticks": ""
           },
           "bgcolor": "#E5ECF6",
           "caxis": {
            "gridcolor": "white",
            "linecolor": "white",
            "ticks": ""
           }
          },
          "title": {
           "x": 0.05
          },
          "xaxis": {
           "automargin": true,
           "gridcolor": "white",
           "linecolor": "white",
           "ticks": "",
           "zerolinecolor": "white",
           "zerolinewidth": 2
          },
          "yaxis": {
           "automargin": true,
           "gridcolor": "white",
           "linecolor": "white",
           "ticks": "",
           "zerolinecolor": "white",
           "zerolinewidth": 2
          }
         }
        }
       }
      },
      "image/png": "[encoded data removed]",
      "text/html": [
       "<div>\n",
       "        \n",
       "        \n",
       "            <div id=\"4177e55f-4aad-4db8-86de-9127c375fac2\" class=\"plotly-graph-div\" style=\"height:525px; width:100%;\"></div>\n",
       "            <script type=\"text/javascript\">\n",
       "                require([\"plotly\"], function(Plotly) {\n",
       "                    window.PLOTLYENV=window.PLOTLYENV || {};\n",
       "                    \n",
       "                if (document.getElementById(\"4177e55f-4aad-4db8-86de-9127c375fac2\")) {\n",
       "                    Plotly.newPlot(\n",
       "                        '4177e55f-4aad-4db8-86de-9127c375fac2',\n",
       "                        [{\"lat\": [34.13], \"lon\": [25.65], \"marker\": {\"size\": 14}, \"mode\": \"markers\", \"text\": [\"mag                6.6\\ntime     1588423865600\\nplace    CRETE, GREECE\\nName: 0, dtype: object\"], \"type\": \"scattermapbox\"}, {\"lat\": [-15.46, 35.62, -6.85, -4.47, -29.55], \"lon\": [-70.51, 140.72, 129.83, 154.71, 76.52], \"marker\": {\"color\": \"yellow\", \"size\": 9}, \"mode\": \"markers\", \"text\": [[5.7, 1588466667700, \"SOUTHERN PERU\"], [5.6, 1588597669100, \"NEAR EAST COAST OF HONSHU, JAPAN\"], [6.8, 1588773235300, \"BANDA SEA\"], [6.1, 1588850480900, \"BOUGAINVILLE REGION, P.N.G.\"], [5.5, 1588970740700, \"MID-INDIAN RIDGE\"]], \"type\": \"scattermapbox\"}],\n",
       "                        {\"hovermode\": \"closest\", \"mapbox\": {\"bearing\": 0, \"center\": {\"lat\": 0, \"lon\": 0}, \"pitch\": 0, \"style\": \"stamen-terrain\", \"zoom\": 0}, \"template\": {\"data\": {\"bar\": [{\"error_x\": {\"color\": \"#2a3f5f\"}, \"error_y\": {\"color\": \"#2a3f5f\"}, \"marker\": {\"line\": {\"color\": \"#E5ECF6\", \"width\": 0.5}}, \"type\": \"bar\"}], \"barpolar\": [{\"marker\": {\"line\": {\"color\": \"#E5ECF6\", \"width\": 0.5}}, \"type\": \"barpolar\"}], \"carpet\": [{\"aaxis\": {\"endlinecolor\": \"#2a3f5f\", \"gridcolor\": \"white\", \"linecolor\": \"white\", \"minorgridcolor\": \"white\", \"startlinecolor\": \"#2a3f5f\"}, \"baxis\": {\"endlinecolor\": \"#2a3f5f\", \"gridcolor\": \"white\", \"linecolor\": \"white\", \"minorgridcolor\": \"white\", \"startlinecolor\": \"#2a3f5f\"}, \"type\": \"carpet\"}], \"choropleth\": [{\"colorbar\": {\"outlinewidth\": 0, \"ticks\": \"\"}, \"type\": \"choropleth\"}], \"contour\": [{\"colorbar\": {\"outlinewidth\": 0, \"ticks\": \"\"}, \"colorscale\": [[0.0, \"#0d0887\"], [0.1111111111111111, \"#46039f\"], [0.2222222222222222, \"#7201a8\"], [0.3333333333333333, \"#9c179e\"], [0.4444444444444444, \"#bd3786\"], [0.5555555555555556, \"#d8576b\"], [0.6666666666666666, \"#ed7953\"], [0.7777777777777778, \"#fb9f3a\"], [0.8888888888888888, \"#fdca26\"], [1.0, \"#f0f921\"]], \"type\": \"contour\"}], \"contourcarpet\": [{\"colorbar\": {\"outlinewidth\": 0, \"ticks\": \"\"}, \"type\": \"contourcarpet\"}], \"heatmap\": [{\"colorbar\": {\"outlinewidth\": 0, \"ticks\": \"\"}, \"colorscale\": [[0.0, \"#0d0887\"], [0.1111111111111111, \"#46039f\"], [0.2222222222222222, \"#7201a8\"], [0.3333333333333333, \"#9c179e\"], [0.4444444444444444, \"#bd3786\"], [0.5555555555555556, \"#d8576b\"], [0.6666666666666666, \"#ed7953\"], [0.7777777777777778, \"#fb9f3a\"], [0.8888888888888888, \"#fdca26\"], [1.0, \"#f0f921\"]], \"type\": \"heatmap\"}], \"heatmapgl\": [{\"colorbar\": {\"outlinewidth\": 0, \"ticks\": \"\"}, \"colorscale\": [[0.0, \"#0d0887\"], [0.1111111111111111, \"#46039f\"], [0.2222222222222222, \"#7201a8\"], [0.3333333333333333, \"#9c179e\"], [0.4444444444444444, \"#bd3786\"], [0.5555555555555556, \"#d8576b\"], [0.6666666666666666, \"#ed7953\"], [0.7777777777777778, \"#fb9f3a\"], [0.8888888888888888, \"#fdca26\"], [1.0, \"#f0f921\"]], \"type\": \"heatmapgl\"}], \"histogram\": [{\"marker\": {\"colorbar\": {\"outlinewidth\": 0, \"ticks\": \"\"}}, \"type\": \"histogram\"}], \"histogram2d\": [{\"colorbar\": {\"outlinewidth\": 0, \"ticks\": \"\"}, \"colorscale\": [[0.0, \"#0d0887\"], [0.1111111111111111, \"#46039f\"], [0.2222222222222222, \"#7201a8\"], [0.3333333333333333, \"#9c179e\"], [0.4444444444444444, \"#bd3786\"], [0.5555555555555556, \"#d8576b\"], [0.6666666666666666, \"#ed7953\"], [0.7777777777777778, \"#fb9f3a\"], [0.8888888888888888, \"#fdca26\"], [1.0, \"#f0f921\"]], \"type\": \"histogram2d\"}], \"histogram2dcontour\": [{\"colorbar\": {\"outlinewidth\": 0, \"ticks\": \"\"}, \"colorscale\": [[0.0, \"#0d0887\"], [0.1111111111111111, \"#46039f\"], [0.2222222222222222, \"#7201a8\"], [0.3333333333333333, \"#9c179e\"], [0.4444444444444444, \"#bd3786\"], [0.5555555555555556, \"#d8576b\"], [0.6666666666666666, \"#ed7953\"], [0.7777777777777778, \"#fb9f3a\"], [0.8888888888888888, \"#fdca26\"], [1.0, \"#f0f921\"]], \"type\": \"histogram2dcontour\"}], \"mesh3d\": [{\"colorbar\": {\"outlinewidth\": 0, \"ticks\": \"\"}, \"type\": \"mesh3d\"}], \"parcoords\": [{\"line\": {\"colorbar\": {\"outlinewidth\": 0, \"ticks\": \"\"}}, \"type\": \"parcoords\"}], \"scatter\": [{\"marker\": {\"colorbar\": {\"outlinewidth\": 0, \"ticks\": \"\"}}, \"type\": \"scatter\"}], \"scatter3d\": [{\"line\": {\"colorbar\": {\"outlinewidth\": 0, \"ticks\": \"\"}}, \"marker\": {\"colorbar\": {\"outlinewidth\": 0, \"ticks\": \"\"}}, \"type\": \"scatter3d\"}], \"scattercarpet\": [{\"marker\": {\"colorbar\": {\"outlinewidth\": 0, \"ticks\": \"\"}}, \"type\": \"scattercarpet\"}], \"scattergeo\": [{\"marker\": {\"colorbar\": {\"outlinewidth\": 0, \"ticks\": \"\"}}, \"type\": \"scattergeo\"}], \"scattergl\": [{\"marker\": {\"colorbar\": {\"outlinewidth\": 0, \"ticks\": \"\"}}, \"type\": \"scattergl\"}], \"scattermapbox\": [{\"marker\": {\"colorbar\": {\"outlinewidth\": 0, \"ticks\": \"\"}}, \"type\": \"scattermapbox\"}], \"scatterpolar\": [{\"marker\": {\"colorbar\": {\"outlinewidth\": 0, \"ticks\": \"\"}}, \"type\": \"scatterpolar\"}], \"scatterpolargl\": [{\"marker\": {\"colorbar\": {\"outlinewidth\": 0, \"ticks\": \"\"}}, \"type\": \"scatterpolargl\"}], \"scatterternary\": [{\"marker\": {\"colorbar\": {\"outlinewidth\": 0, \"ticks\": \"\"}}, \"type\": \"scatterternary\"}], \"surface\": [{\"colorbar\": {\"outlinewidth\": 0, \"ticks\": \"\"}, \"colorscale\": [[0.0, \"#0d0887\"], [0.1111111111111111, \"#46039f\"], [0.2222222222222222, \"#7201a8\"], [0.3333333333333333, \"#9c179e\"], [0.4444444444444444, \"#bd3786\"], [0.5555555555555556, \"#d8576b\"], [0.6666666666666666, \"#ed7953\"], [0.7777777777777778, \"#fb9f3a\"], [0.8888888888888888, \"#fdca26\"], [1.0, \"#f0f921\"]], \"type\": \"surface\"}], \"table\": [{\"cells\": {\"fill\": {\"color\": \"#EBF0F8\"}, \"line\": {\"color\": \"white\"}}, \"header\": {\"fill\": {\"color\": \"#C8D4E3\"}, \"line\": {\"color\": \"white\"}}, \"type\": \"table\"}]}, \"layout\": {\"annotationdefaults\": {\"arrowcolor\": \"#2a3f5f\", \"arrowhead\": 0, \"arrowwidth\": 1}, \"colorscale\": {\"diverging\": [[0, \"#8e0152\"], [0.1, \"#c51b7d\"], [0.2, \"#de77ae\"], [0.3, \"#f1b6da\"], [0.4, \"#fde0ef\"], [0.5, \"#f7f7f7\"], [0.6, \"#e6f5d0\"], [0.7, \"#b8e186\"], [0.8, \"#7fbc41\"], [0.9, \"#4d9221\"], [1, \"#276419\"]], \"sequential\": [[0.0, \"#0d0887\"], [0.1111111111111111, \"#46039f\"], [0.2222222222222222, \"#7201a8\"], [0.3333333333333333, \"#9c179e\"], [0.4444444444444444, \"#bd3786\"], [0.5555555555555556, \"#d8576b\"], [0.6666666666666666, \"#ed7953\"], [0.7777777777777778, \"#fb9f3a\"], [0.8888888888888888, \"#fdca26\"], [1.0, \"#f0f921\"]], \"sequentialminus\": [[0.0, \"#0d0887\"], [0.1111111111111111, \"#46039f\"], [0.2222222222222222, \"#7201a8\"], [0.3333333333333333, \"#9c179e\"], [0.4444444444444444, \"#bd3786\"], [0.5555555555555556, \"#d8576b\"], [0.6666666666666666, \"#ed7953\"], [0.7777777777777778, \"#fb9f3a\"], [0.8888888888888888, \"#fdca26\"], [1.0, \"#f0f921\"]]}, \"colorway\": [\"#636efa\", \"#EF553B\", \"#00cc96\", \"#ab63fa\", \"#FFA15A\", \"#19d3f3\", \"#FF6692\", \"#B6E880\", \"#FF97FF\", \"#FECB52\"], \"font\": {\"color\": \"#2a3f5f\"}, \"geo\": {\"bgcolor\": \"white\", \"lakecolor\": \"white\", \"landcolor\": \"#E5ECF6\", \"showlakes\": true, \"showland\": true, \"subunitcolor\": \"white\"}, \"hoverlabel\": {\"align\": \"left\"}, \"hovermode\": \"closest\", \"mapbox\": {\"style\": \"light\"}, \"paper_bgcolor\": \"white\", \"plot_bgcolor\": \"#E5ECF6\", \"polar\": {\"angularaxis\": {\"gridcolor\": \"white\", \"linecolor\": \"white\", \"ticks\": \"\"}, \"bgcolor\": \"#E5ECF6\", \"radialaxis\": {\"gridcolor\": \"white\", \"linecolor\": \"white\", \"ticks\": \"\"}}, \"scene\": {\"xaxis\": {\"backgroundcolor\": \"#E5ECF6\", \"gridcolor\": \"white\", \"gridwidth\": 2, \"linecolor\": \"white\", \"showbackground\": true, \"ticks\": \"\", \"zerolinecolor\": \"white\"}, \"yaxis\": {\"backgroundcolor\": \"#E5ECF6\", \"gridcolor\": \"white\", \"gridwidth\": 2, \"linecolor\": \"white\", \"showbackground\": true, \"ticks\": \"\", \"zerolinecolor\": \"white\"}, \"zaxis\": {\"backgroundcolor\": \"#E5ECF6\", \"gridcolor\": \"white\", \"gridwidth\": 2, \"linecolor\": \"white\", \"showbackground\": true, \"ticks\": \"\", \"zerolinecolor\": \"white\"}}, \"shapedefaults\": {\"line\": {\"color\": \"#2a3f5f\"}}, \"ternary\": {\"aaxis\": {\"gridcolor\": \"white\", \"linecolor\": \"white\", \"ticks\": \"\"}, \"baxis\": {\"gridcolor\": \"white\", \"linecolor\": \"white\", \"ticks\": \"\"}, \"bgcolor\": \"#E5ECF6\", \"caxis\": {\"gridcolor\": \"white\", \"linecolor\": \"white\", \"ticks\": \"\"}}, \"title\": {\"x\": 0.05}, \"xaxis\": {\"automargin\": true, \"gridcolor\": \"white\", \"linecolor\": \"white\", \"ticks\": \"\", \"zerolinecolor\": \"white\", \"zerolinewidth\": 2}, \"yaxis\": {\"automargin\": true, \"gridcolor\": \"white\", \"linecolor\": \"white\", \"ticks\": \"\", \"zerolinecolor\": \"white\", \"zerolinewidth\": 2}}}},\n",
       "                        {\"responsive\": true}\n",
       "                    ).then(function(){\n",
       "                            \n",
       "var gd = document.getElementById('4177e55f-4aad-4db8-86de-9127c375fac2');\n",
       "var x = new MutationObserver(function (mutations, observer) {{\n",
       "        var display = window.getComputedStyle(gd).display;\n",
       "        if (!display || display === 'none') {{\n",
       "            console.log([gd, 'removed!']);\n",
       "            Plotly.purge(gd);\n",
       "            observer.disconnect();\n",
       "        }}\n",
       "}});\n",
       "\n",
       "// Listen for the removal of the full notebook cells\n",
       "var notebookContainer = gd.closest('#notebook-container');\n",
       "if (notebookContainer) {{\n",
       "    x.observe(notebookContainer, {childList: true});\n",
       "}}\n",
       "\n",
       "// Listen for the clearing of the current output cell\n",
       "var outputEl = gd.closest('.output');\n",
       "if (outputEl) {{\n",
       "    x.observe(outputEl, {childList: true});\n",
       "}}\n",
       "\n",
       "                        })\n",
       "                };\n",
       "                });\n",
       "            </script>\n",
       "        </div>"
      ]
     },
     "metadata": {},
     "output_type": "display_data"
    },
    {
     "data": {
      "text/html": [
       "<div>\n",
       "<style scoped>\n",
       "    .dataframe tbody tr th:only-of-type {\n",
       "        vertical-align: middle;\n",
       "    }\n",
       "\n",
       "    .dataframe tbody tr th {\n",
       "        vertical-align: top;\n",
       "    }\n",
       "\n",
       "    .dataframe thead th {\n",
       "        text-align: right;\n",
       "    }\n",
       "</style>\n",
       "<table border=\"1\" class=\"dataframe\">\n",
       "  <thead>\n",
       "    <tr style=\"text-align: right;\">\n",
       "      <th></th>\n",
       "      <th>id</th>\n",
       "      <th>lat</th>\n",
       "      <th>lon</th>\n",
       "      <th>mag</th>\n",
       "      <th>place</th>\n",
       "      <th>time</th>\n",
       "    </tr>\n",
       "  </thead>\n",
       "  <tbody>\n",
       "    <tr>\n",
       "      <th>1</th>\n",
       "      <td>103853</td>\n",
       "      <td>-15.46</td>\n",
       "      <td>-70.51</td>\n",
       "      <td>5.7</td>\n",
       "      <td>SOUTHERN PERU</td>\n",
       "      <td>1588466667700</td>\n",
       "    </tr>\n",
       "    <tr>\n",
       "      <th>2</th>\n",
       "      <td>103940</td>\n",
       "      <td>35.62</td>\n",
       "      <td>140.72</td>\n",
       "      <td>5.6</td>\n",
       "      <td>NEAR EAST COAST OF HONSHU, JAPAN</td>\n",
       "      <td>1588597669100</td>\n",
       "    </tr>\n",
       "    <tr>\n",
       "      <th>3</th>\n",
       "      <td>104313</td>\n",
       "      <td>-6.85</td>\n",
       "      <td>129.83</td>\n",
       "      <td>6.8</td>\n",
       "      <td>BANDA SEA</td>\n",
       "      <td>1588773235300</td>\n",
       "    </tr>\n",
       "    <tr>\n",
       "      <th>4</th>\n",
       "      <td>104532</td>\n",
       "      <td>-4.47</td>\n",
       "      <td>154.71</td>\n",
       "      <td>6.1</td>\n",
       "      <td>BOUGAINVILLE REGION, P.N.G.</td>\n",
       "      <td>1588850480900</td>\n",
       "    </tr>\n",
       "    <tr>\n",
       "      <th>5</th>\n",
       "      <td>104647</td>\n",
       "      <td>-29.55</td>\n",
       "      <td>76.52</td>\n",
       "      <td>5.5</td>\n",
       "      <td>MID-INDIAN RIDGE</td>\n",
       "      <td>1588970740700</td>\n",
       "    </tr>\n",
       "  </tbody>\n",
       "</table>\n",
       "</div>"
      ],
      "text/plain": [
       "       id    lat     lon  mag                             place           time\n",
       "1  103853 -15.46  -70.51  5.7                     SOUTHERN PERU  1588466667700\n",
       "2  103940  35.62  140.72  5.6  NEAR EAST COAST OF HONSHU, JAPAN  1588597669100\n",
       "3  104313  -6.85  129.83  6.8                         BANDA SEA  1588773235300\n",
       "4  104532  -4.47  154.71  6.1       BOUGAINVILLE REGION, P.N.G.  1588850480900\n",
       "5  104647 -29.55   76.52  5.5                  MID-INDIAN RIDGE  1588970740700"
      ]
     },
     "execution_count": 29,
     "metadata": {},
     "output_type": "execute_result"
    }
   ],
   "source": [
    "plot_quakes(target, neighbors)\n",
    "neighbors"
   ]
  },
  {
   "cell_type": "code",
   "execution_count": 30,
   "metadata": {},
   "outputs": [],
   "source": [
    "# Now I need to build my K-nearest-neighbors, I'm going to start with the\n",
    "# base model that I built on monday \n",
    "class QuakeNearestNeighbors():\n",
    "    def __init__(self, neighbors):\n",
    "        self.neighbors = neighbors\n",
    "\n",
    "    def fit(self, data):\n",
    "        self.data = data\n",
    "        self.matching = data[['lat', 'lon', 'mag']].values\n",
    "\n",
    "    def predict(self, y):\n",
    "        match = y[['lat','lon','mag']].values\n",
    "        dist = spatial.distance_matrix(self.matching, [match])\n",
    "        kmin_index = np.argsort(dist, axis=0)\n",
    "        return kmin_index[:self.neighbors], dist[kmin_index[:self.neighbors]]"
   ]
  },
  {
   "cell_type": "code",
   "execution_count": 31,
   "metadata": {},
   "outputs": [
    {
     "name": "stdout",
     "output_type": "stream",
     "text": [
      "34\n"
     ]
    },
    {
     "data": {
      "application/vnd.plotly.v1+json": {
       "config": {
        "plotlyServerURL": "https://plot.ly"
       },
       "data": [
        {
         "lat": [
          34.2045,
          -15.3244,
          35.6765,
          -15.1704,
          -6.7949,
          -4.4543,
          -29.4323,
          -22.7535,
          36.4028,
          -6.0661,
          -12.12,
          -12.1,
          -12.1059,
          -35.7934,
          38.1687,
          38.1648,
          38.1612,
          38.1588,
          -16.229,
          -15.6128,
          -16.0936,
          40.801,
          40.8281,
          34.2018,
          35.149,
          35.1547,
          22.4028,
          -14.812,
          -47.395,
          -47.4139,
          -40.3929,
          -17.1569,
          -22.236,
          -27.6755
         ],
         "lon": [
          25.7124,
          -70.4168,
          140.8939,
          -172.9345,
          129.8613,
          154.7127,
          76.4736,
          -68.1578,
          141.1421,
          129.9186,
          166.516,
          166.5,
          166.5694,
          -102.8879,
          -117.8785,
          -117.88,
          -117.8829,
          -117.8765,
          -172.942,
          -172.9734,
          167.9806,
          -127.602,
          -127.2301,
          25.526,
          20.2689,
          20.2872,
          -108.1636,
          66.6823,
          -12.2543,
          -12.2226,
          174.966,
          167.8644,
          -174.2851,
          -174.9043
         ],
         "marker": {
          "size": 14
         },
         "mode": "markers",
         "text": [
          "    mag           time                                    place\n2   6.6  1588423866662              89km S of Ierapetra, Greece\n3   5.7  1588466666050                   6km WNW of Lampa, Peru\n5   5.6  1588597668200                  8km SE of Hasaki, Japan\n7   5.5  1588720840032                122km NE of Hihifo, Tonga\n8   6.8  1588773236960          205km NW of Saumlaki, Indonesia\n9   6.1  1588850479839       186km E of Taron, Papua New Guinea\n10  5.5  1588970731713                         Mid-Indian Ridge\n11  5.5  1589133862484  19km NNE of San Pedro de Atacama, Chile\n12  5.8  1589155113745               49km ESE of Hitachi, Japan\n13  5.6  1589159178684          259km NW of Saumlaki, Indonesia\n14  6.6  1589323274000       172km SSE of Lata, Solomon Islands\n15  6.6  1589323275000       169km SSE of Lata, Solomon Islands\n16  6.6  1589323272954       173km SSE of Lata, Solomon Islands\n17  5.7  1589435721397               Southeast of Easter Island\n18  6.4  1589540606890              57km WNW of Tonopah, Nevada\n19  5.8  1589540606879                60km W of Tonopah, Nevada\n20  6.2  1589540606654                60km W of Tonopah, Nevada\n21  6.4  1589540607384                56km W of Tonopah, Nevada\n22  6.2  1589554165000                91km ESE of Hihifo, Tonga\n23  5.8  1589554161902                91km ENE of Hihifo, Tonga\n24  5.9  1589598943425              60km E of Lakatoro, Vanuatu\n26  5.5  1589785352000          283km W of Ferndale, California\n27  5.5  1589785354454          252km W of Ferndale, California\n28  5.8  1589844155214            91km SSW of Ierapetra, Greece\n29  5.7  1590018197100              226km SW of Methoni, Greece\n30  5.7  1590018198178              224km SW of Methoni, Greece\n31  6.1  1590137166748   173km ESE of San Jose del Cabo, Mexico\n32  5.6  1590274948067                         Mid-Indian Ridge\n33  5.8  1590288743918              Southern Mid-Atlantic Ridge\n34  5.9  1590288743755              Southern Mid-Atlantic Ridge\n36  5.6  1590350012900          29km WNW of Foxton, New Zealand\n38  6.1  1590563350686            80km NW of Port-Vila, Vanuatu\n39  5.9  1590650324852               121km SE of `Ohonua, Tonga\n40  5.8  1590659206493                  Kermadec Islands region"
         ],
         "type": "scattermapbox"
        },
        {
         "lat": [
          34.13,
          -15.46,
          35.62,
          -15.52,
          -6.85,
          -4.47,
          -29.55,
          -22.83,
          36.39,
          -6.03,
          -12.03,
          -12.03,
          -12.03,
          -35.82,
          38.16,
          38.16,
          38.16,
          38.16,
          -15.52,
          -15.52,
          -16.22,
          40.84,
          40.84,
          34.13,
          35.2,
          35.2,
          22.48,
          -14.92,
          -47.47,
          -47.47,
          -40.39,
          -17.09,
          -22.34,
          -27.68
         ],
         "lon": [
          25.65,
          -70.51,
          140.72,
          -173.05,
          129.83,
          154.71,
          76.52,
          -68.03,
          141.03,
          129.94,
          166.59,
          166.59,
          166.59,
          -102.92,
          -117.86,
          -117.86,
          -117.86,
          -117.86,
          -173.05,
          -173.05,
          167.96,
          -127.33,
          -127.33,
          25.65,
          20.22,
          20.22,
          -107.92,
          66.7,
          -12.26,
          -12.26,
          174.97,
          167.88,
          -174.36,
          -174.9
         ],
         "marker": {
          "color": "yellow",
          "size": 9
         },
         "mode": "markers",
         "text": [
          [
           6.6,
           1588423865600,
           "CRETE, GREECE"
          ],
          [
           5.7,
           1588466667700,
           "SOUTHERN PERU"
          ],
          [
           5.6,
           1588597669100,
           "NEAR EAST COAST OF HONSHU, JAPAN"
          ],
          [
           5.8,
           1589554161300,
           "TONGA"
          ],
          [
           6.8,
           1588773235300,
           "BANDA SEA"
          ],
          [
           6.1,
           1588850480900,
           "BOUGAINVILLE REGION, P.N.G."
          ],
          [
           5.5,
           1588970740700,
           "MID-INDIAN RIDGE"
          ],
          [
           5.5,
           1589133861100,
           "ANTOFAGASTA, CHILE"
          ],
          [
           5.8,
           1589155115700,
           "NEAR EAST COAST OF HONSHU, JAPAN"
          ],
          [
           5.6,
           1589159178400,
           "BANDA SEA"
          ],
          [
           6.6,
           1589323274100,
           "SANTA CRUZ ISLANDS"
          ],
          [
           6.6,
           1589323274100,
           "SANTA CRUZ ISLANDS"
          ],
          [
           6.6,
           1589323274100,
           "SANTA CRUZ ISLANDS"
          ],
          [
           5.7,
           1589435721200,
           "SOUTHEAST OF EASTER ISLAND"
          ],
          [
           6.5,
           1589540608600,
           "NEVADA"
          ],
          [
           6.5,
           1589540608600,
           "NEVADA"
          ],
          [
           6.5,
           1589540608600,
           "NEVADA"
          ],
          [
           6.5,
           1589540608600,
           "NEVADA"
          ],
          [
           5.8,
           1589554161300,
           "TONGA"
          ],
          [
           5.8,
           1589554161300,
           "TONGA"
          ],
          [
           5.6,
           1589598947600,
           "VANUATU"
          ],
          [
           5.5,
           1589785354700,
           "OFF COAST OF NORTHERN CALIFORNIA"
          ],
          [
           5.5,
           1589785354700,
           "OFF COAST OF NORTHERN CALIFORNIA"
          ],
          [
           6.6,
           1588423865600,
           "CRETE, GREECE"
          ],
          [
           5.8,
           1590018195900,
           "CENTRAL MEDITERRANEAN SEA"
          ],
          [
           5.8,
           1590018195900,
           "CENTRAL MEDITERRANEAN SEA"
          ],
          [
           6.1,
           1590137168400,
           "OFF COAST OF SINALOA, MEXICO"
          ],
          [
           5.6,
           1590274956800,
           "MID-INDIAN RIDGE"
          ],
          [
           5.9,
           1590288743800,
           "SOUTHERN MID-ATLANTIC RIDGE"
          ],
          [
           5.9,
           1590288743800,
           "SOUTHERN MID-ATLANTIC RIDGE"
          ],
          [
           5.5,
           1590350012200,
           "COOK STRAIT, NEW ZEALAND"
          ],
          [
           6.1,
           1590563350400,
           "VANUATU"
          ],
          [
           5.9,
           1590650324600,
           "TONGA REGION"
          ],
          [
           5.8,
           1590659208100,
           "KERMADEC ISLANDS REGION"
          ]
         ],
         "type": "scattermapbox"
        }
       ],
       "layout": {
        "autosize": true,
        "hovermode": "closest",
        "mapbox": {
         "bearing": 0,
         "center": {
          "lat": 0,
          "lon": 0
         },
         "pitch": 0,
         "style": "stamen-terrain",
         "zoom": 0
        },
        "template": {
         "data": {
          "bar": [
           {
            "error_x": {
             "color": "#2a3f5f"
            },
            "error_y": {
             "color": "#2a3f5f"
            },
            "marker": {
             "line": {
              "color": "#E5ECF6",
              "width": 0.5
             }
            },
            "type": "bar"
           }
          ],
          "barpolar": [
           {
            "marker": {
             "line": {
              "color": "#E5ECF6",
              "width": 0.5
             }
            },
            "type": "barpolar"
           }
          ],
          "carpet": [
           {
            "aaxis": {
             "endlinecolor": "#2a3f5f",
             "gridcolor": "white",
             "linecolor": "white",
             "minorgridcolor": "white",
             "startlinecolor": "#2a3f5f"
            },
            "baxis": {
             "endlinecolor": "#2a3f5f",
             "gridcolor": "white",
             "linecolor": "white",
             "minorgridcolor": "white",
             "startlinecolor": "#2a3f5f"
            },
            "type": "carpet"
           }
          ],
          "choropleth": [
           {
            "colorbar": {
             "outlinewidth": 0,
             "ticks": ""
            },
            "type": "choropleth"
           }
          ],
          "contour": [
           {
            "colorbar": {
             "outlinewidth": 0,
             "ticks": ""
            },
            "colorscale": [
             [
              0,
              "#0d0887"
             ],
             [
              0.1111111111111111,
              "#46039f"
             ],
             [
              0.2222222222222222,
              "#7201a8"
             ],
             [
              0.3333333333333333,
              "#9c179e"
             ],
             [
              0.4444444444444444,
              "#bd3786"
             ],
             [
              0.5555555555555556,
              "#d8576b"
             ],
             [
              0.6666666666666666,
              "#ed7953"
             ],
             [
              0.7777777777777778,
              "#fb9f3a"
             ],
             [
              0.8888888888888888,
              "#fdca26"
             ],
             [
              1,
              "#f0f921"
             ]
            ],
            "type": "contour"
           }
          ],
          "contourcarpet": [
           {
            "colorbar": {
             "outlinewidth": 0,
             "ticks": ""
            },
            "type": "contourcarpet"
           }
          ],
          "heatmap": [
           {
            "colorbar": {
             "outlinewidth": 0,
             "ticks": ""
            },
            "colorscale": [
             [
              0,
              "#0d0887"
             ],
             [
              0.1111111111111111,
              "#46039f"
             ],
             [
              0.2222222222222222,
              "#7201a8"
             ],
             [
              0.3333333333333333,
              "#9c179e"
             ],
             [
              0.4444444444444444,
              "#bd3786"
             ],
             [
              0.5555555555555556,
              "#d8576b"
             ],
             [
              0.6666666666666666,
              "#ed7953"
             ],
             [
              0.7777777777777778,
              "#fb9f3a"
             ],
             [
              0.8888888888888888,
              "#fdca26"
             ],
             [
              1,
              "#f0f921"
             ]
            ],
            "type": "heatmap"
           }
          ],
          "heatmapgl": [
           {
            "colorbar": {
             "outlinewidth": 0,
             "ticks": ""
            },
            "colorscale": [
             [
              0,
              "#0d0887"
             ],
             [
              0.1111111111111111,
              "#46039f"
             ],
             [
              0.2222222222222222,
              "#7201a8"
             ],
             [
              0.3333333333333333,
              "#9c179e"
             ],
             [
              0.4444444444444444,
              "#bd3786"
             ],
             [
              0.5555555555555556,
              "#d8576b"
             ],
             [
              0.6666666666666666,
              "#ed7953"
             ],
             [
              0.7777777777777778,
              "#fb9f3a"
             ],
             [
              0.8888888888888888,
              "#fdca26"
             ],
             [
              1,
              "#f0f921"
             ]
            ],
            "type": "heatmapgl"
           }
          ],
          "histogram": [
           {
            "marker": {
             "colorbar": {
              "outlinewidth": 0,
              "ticks": ""
             }
            },
            "type": "histogram"
           }
          ],
          "histogram2d": [
           {
            "colorbar": {
             "outlinewidth": 0,
             "ticks": ""
            },
            "colorscale": [
             [
              0,
              "#0d0887"
             ],
             [
              0.1111111111111111,
              "#46039f"
             ],
             [
              0.2222222222222222,
              "#7201a8"
             ],
             [
              0.3333333333333333,
              "#9c179e"
             ],
             [
              0.4444444444444444,
              "#bd3786"
             ],
             [
              0.5555555555555556,
              "#d8576b"
             ],
             [
              0.6666666666666666,
              "#ed7953"
             ],
             [
              0.7777777777777778,
              "#fb9f3a"
             ],
             [
              0.8888888888888888,
              "#fdca26"
             ],
             [
              1,
              "#f0f921"
             ]
            ],
            "type": "histogram2d"
           }
          ],
          "histogram2dcontour": [
           {
            "colorbar": {
             "outlinewidth": 0,
             "ticks": ""
            },
            "colorscale": [
             [
              0,
              "#0d0887"
             ],
             [
              0.1111111111111111,
              "#46039f"
             ],
             [
              0.2222222222222222,
              "#7201a8"
             ],
             [
              0.3333333333333333,
              "#9c179e"
             ],
             [
              0.4444444444444444,
              "#bd3786"
             ],
             [
              0.5555555555555556,
              "#d8576b"
             ],
             [
              0.6666666666666666,
              "#ed7953"
             ],
             [
              0.7777777777777778,
              "#fb9f3a"
             ],
             [
              0.8888888888888888,
              "#fdca26"
             ],
             [
              1,
              "#f0f921"
             ]
            ],
            "type": "histogram2dcontour"
           }
          ],
          "mesh3d": [
           {
            "colorbar": {
             "outlinewidth": 0,
             "ticks": ""
            },
            "type": "mesh3d"
           }
          ],
          "parcoords": [
           {
            "line": {
             "colorbar": {
              "outlinewidth": 0,
              "ticks": ""
             }
            },
            "type": "parcoords"
           }
          ],
          "scatter": [
           {
            "marker": {
             "colorbar": {
              "outlinewidth": 0,
              "ticks": ""
             }
            },
            "type": "scatter"
           }
          ],
          "scatter3d": [
           {
            "line": {
             "colorbar": {
              "outlinewidth": 0,
              "ticks": ""
             }
            },
            "marker": {
             "colorbar": {
              "outlinewidth": 0,
              "ticks": ""
             }
            },
            "type": "scatter3d"
           }
          ],
          "scattercarpet": [
           {
            "marker": {
             "colorbar": {
              "outlinewidth": 0,
              "ticks": ""
             }
            },
            "type": "scattercarpet"
           }
          ],
          "scattergeo": [
           {
            "marker": {
             "colorbar": {
              "outlinewidth": 0,
              "ticks": ""
             }
            },
            "type": "scattergeo"
           }
          ],
          "scattergl": [
           {
            "marker": {
             "colorbar": {
              "outlinewidth": 0,
              "ticks": ""
             }
            },
            "type": "scattergl"
           }
          ],
          "scattermapbox": [
           {
            "marker": {
             "colorbar": {
              "outlinewidth": 0,
              "ticks": ""
             }
            },
            "type": "scattermapbox"
           }
          ],
          "scatterpolar": [
           {
            "marker": {
             "colorbar": {
              "outlinewidth": 0,
              "ticks": ""
             }
            },
            "type": "scatterpolar"
           }
          ],
          "scatterpolargl": [
           {
            "marker": {
             "colorbar": {
              "outlinewidth": 0,
              "ticks": ""
             }
            },
            "type": "scatterpolargl"
           }
          ],
          "scatterternary": [
           {
            "marker": {
             "colorbar": {
              "outlinewidth": 0,
              "ticks": ""
             }
            },
            "type": "scatterternary"
           }
          ],
          "surface": [
           {
            "colorbar": {
             "outlinewidth": 0,
             "ticks": ""
            },
            "colorscale": [
             [
              0,
              "#0d0887"
             ],
             [
              0.1111111111111111,
              "#46039f"
             ],
             [
              0.2222222222222222,
              "#7201a8"
             ],
             [
              0.3333333333333333,
              "#9c179e"
             ],
             [
              0.4444444444444444,
              "#bd3786"
             ],
             [
              0.5555555555555556,
              "#d8576b"
             ],
             [
              0.6666666666666666,
              "#ed7953"
             ],
             [
              0.7777777777777778,
              "#fb9f3a"
             ],
             [
              0.8888888888888888,
              "#fdca26"
             ],
             [
              1,
              "#f0f921"
             ]
            ],
            "type": "surface"
           }
          ],
          "table": [
           {
            "cells": {
             "fill": {
              "color": "#EBF0F8"
             },
             "line": {
              "color": "white"
             }
            },
            "header": {
             "fill": {
              "color": "#C8D4E3"
             },
             "line": {
              "color": "white"
             }
            },
            "type": "table"
           }
          ]
         },
         "layout": {
          "annotationdefaults": {
           "arrowcolor": "#2a3f5f",
           "arrowhead": 0,
           "arrowwidth": 1
          },
          "colorscale": {
           "diverging": [
            [
             0,
             "#8e0152"
            ],
            [
             0.1,
             "#c51b7d"
            ],
            [
             0.2,
             "#de77ae"
            ],
            [
             0.3,
             "#f1b6da"
            ],
            [
             0.4,
             "#fde0ef"
            ],
            [
             0.5,
             "#f7f7f7"
            ],
            [
             0.6,
             "#e6f5d0"
            ],
            [
             0.7,
             "#b8e186"
            ],
            [
             0.8,
             "#7fbc41"
            ],
            [
             0.9,
             "#4d9221"
            ],
            [
             1,
             "#276419"
            ]
           ],
           "sequential": [
            [
             0,
             "#0d0887"
            ],
            [
             0.1111111111111111,
             "#46039f"
            ],
            [
             0.2222222222222222,
             "#7201a8"
            ],
            [
             0.3333333333333333,
             "#9c179e"
            ],
            [
             0.4444444444444444,
             "#bd3786"
            ],
            [
             0.5555555555555556,
             "#d8576b"
            ],
            [
             0.6666666666666666,
             "#ed7953"
            ],
            [
             0.7777777777777778,
             "#fb9f3a"
            ],
            [
             0.8888888888888888,
             "#fdca26"
            ],
            [
             1,
             "#f0f921"
            ]
           ],
           "sequentialminus": [
            [
             0,
             "#0d0887"
            ],
            [
             0.1111111111111111,
             "#46039f"
            ],
            [
             0.2222222222222222,
             "#7201a8"
            ],
            [
             0.3333333333333333,
             "#9c179e"
            ],
            [
             0.4444444444444444,
             "#bd3786"
            ],
            [
             0.5555555555555556,
             "#d8576b"
            ],
            [
             0.6666666666666666,
             "#ed7953"
            ],
            [
             0.7777777777777778,
             "#fb9f3a"
            ],
            [
             0.8888888888888888,
             "#fdca26"
            ],
            [
             1,
             "#f0f921"
            ]
           ]
          },
          "colorway": [
           "#636efa",
           "#EF553B",
           "#00cc96",
           "#ab63fa",
           "#FFA15A",
           "#19d3f3",
           "#FF6692",
           "#B6E880",
           "#FF97FF",
           "#FECB52"
          ],
          "font": {
           "color": "#2a3f5f"
          },
          "geo": {
           "bgcolor": "white",
           "lakecolor": "white",
           "landcolor": "#E5ECF6",
           "showlakes": true,
           "showland": true,
           "subunitcolor": "white"
          },
          "hoverlabel": {
           "align": "left"
          },
          "hovermode": "closest",
          "mapbox": {
           "style": "light"
          },
          "paper_bgcolor": "white",
          "plot_bgcolor": "#E5ECF6",
          "polar": {
           "angularaxis": {
            "gridcolor": "white",
            "linecolor": "white",
            "ticks": ""
           },
           "bgcolor": "#E5ECF6",
           "radialaxis": {
            "gridcolor": "white",
            "linecolor": "white",
            "ticks": ""
           }
          },
          "scene": {
           "xaxis": {
            "backgroundcolor": "#E5ECF6",
            "gridcolor": "white",
            "gridwidth": 2,
            "linecolor": "white",
            "showbackground": true,
            "ticks": "",
            "zerolinecolor": "white"
           },
           "yaxis": {
            "backgroundcolor": "#E5ECF6",
            "gridcolor": "white",
            "gridwidth": 2,
            "linecolor": "white",
            "showbackground": true,
            "ticks": "",
            "zerolinecolor": "white"
           },
           "zaxis": {
            "backgroundcolor": "#E5ECF6",
            "gridcolor": "white",
            "gridwidth": 2,
            "linecolor": "white",
            "showbackground": true,
            "ticks": "",
            "zerolinecolor": "white"
           }
          },
          "shapedefaults": {
           "line": {
            "color": "#2a3f5f"
           }
          },
          "ternary": {
           "aaxis": {
            "gridcolor": "white",
            "linecolor": "white",
            "ticks": ""
           },
           "baxis": {
            "gridcolor": "white",
            "linecolor": "white",
            "ticks": ""
           },
           "bgcolor": "#E5ECF6",
           "caxis": {
            "gridcolor": "white",
            "linecolor": "white",
            "ticks": ""
           }
          },
          "title": {
           "x": 0.05
          },
          "xaxis": {
           "automargin": true,
           "gridcolor": "white",
           "linecolor": "white",
           "ticks": "",
           "zerolinecolor": "white",
           "zerolinewidth": 2
          },
          "yaxis": {
           "automargin": true,
           "gridcolor": "white",
           "linecolor": "white",
           "ticks": "",
           "zerolinecolor": "white",
           "zerolinewidth": 2
          }
         }
        }
       }
      },
      "image/png": "[encoded data removed]",
      "text/html": [
       "<div>\n",
       "        \n",
       "        \n",
       "            <div id=\"5ab447bd-6f81-4097-9d78-33638b97f3d6\" class=\"plotly-graph-div\" style=\"height:525px; width:100%;\"></div>\n",
       "            <script type=\"text/javascript\">\n",
       "                require([\"plotly\"], function(Plotly) {\n",
       "                    window.PLOTLYENV=window.PLOTLYENV || {};\n",
       "                    \n",
       "                if (document.getElementById(\"5ab447bd-6f81-4097-9d78-33638b97f3d6\")) {\n",
       "                    Plotly.newPlot(\n",
       "                        '5ab447bd-6f81-4097-9d78-33638b97f3d6',\n",
       "                        [{\"lat\": [34.2045, -15.3244, 35.6765, -15.1704, -6.7949, -4.4543, -29.4323, -22.7535, 36.4028, -6.0661, -12.12, -12.1, -12.1059, -35.7934, 38.1687, 38.1648, 38.1612, 38.1588, -16.229, -15.6128, -16.0936, 40.801, 40.8281, 34.2018, 35.149, 35.1547, 22.4028, -14.812, -47.395, -47.4139, -40.3929, -17.1569, -22.236, -27.6755], \"lon\": [25.7124, -70.4168, 140.8939, -172.9345, 129.8613, 154.7127, 76.4736, -68.1578, 141.1421, 129.9186, 166.516, 166.5, 166.5694, -102.8879, -117.8785, -117.88, -117.8829, -117.8765, -172.942, -172.9734, 167.9806, -127.602, -127.2301, 25.526, 20.2689, 20.2872, -108.1636, 66.6823, -12.2543, -12.2226, 174.966, 167.8644, -174.2851, -174.9043], \"marker\": {\"size\": 14}, \"mode\": \"markers\", \"text\": [\"    mag           time                                    place\\n2   6.6  1588423866662              89km S of Ierapetra, Greece\\n3   5.7  1588466666050                   6km WNW of Lampa, Peru\\n5   5.6  1588597668200                  8km SE of Hasaki, Japan\\n7   5.5  1588720840032                122km NE of Hihifo, Tonga\\n8   6.8  1588773236960          205km NW of Saumlaki, Indonesia\\n9   6.1  1588850479839       186km E of Taron, Papua New Guinea\\n10  5.5  1588970731713                         Mid-Indian Ridge\\n11  5.5  1589133862484  19km NNE of San Pedro de Atacama, Chile\\n12  5.8  1589155113745               49km ESE of Hitachi, Japan\\n13  5.6  1589159178684          259km NW of Saumlaki, Indonesia\\n14  6.6  1589323274000       172km SSE of Lata, Solomon Islands\\n15  6.6  1589323275000       169km SSE of Lata, Solomon Islands\\n16  6.6  1589323272954       173km SSE of Lata, Solomon Islands\\n17  5.7  1589435721397               Southeast of Easter Island\\n18  6.4  1589540606890              57km WNW of Tonopah, Nevada\\n19  5.8  1589540606879                60km W of Tonopah, Nevada\\n20  6.2  1589540606654                60km W of Tonopah, Nevada\\n21  6.4  1589540607384                56km W of Tonopah, Nevada\\n22  6.2  1589554165000                91km ESE of Hihifo, Tonga\\n23  5.8  1589554161902                91km ENE of Hihifo, Tonga\\n24  5.9  1589598943425              60km E of Lakatoro, Vanuatu\\n26  5.5  1589785352000          283km W of Ferndale, California\\n27  5.5  1589785354454          252km W of Ferndale, California\\n28  5.8  1589844155214            91km SSW of Ierapetra, Greece\\n29  5.7  1590018197100              226km SW of Methoni, Greece\\n30  5.7  1590018198178              224km SW of Methoni, Greece\\n31  6.1  1590137166748   173km ESE of San Jose del Cabo, Mexico\\n32  5.6  1590274948067                         Mid-Indian Ridge\\n33  5.8  1590288743918              Southern Mid-Atlantic Ridge\\n34  5.9  1590288743755              Southern Mid-Atlantic Ridge\\n36  5.6  1590350012900          29km WNW of Foxton, New Zealand\\n38  6.1  1590563350686            80km NW of Port-Vila, Vanuatu\\n39  5.9  1590650324852               121km SE of `Ohonua, Tonga\\n40  5.8  1590659206493                  Kermadec Islands region\"], \"type\": \"scattermapbox\"}, {\"lat\": [34.13, -15.46, 35.62, -15.52, -6.85, -4.47, -29.55, -22.83, 36.39, -6.03, -12.03, -12.03, -12.03, -35.82, 38.16, 38.16, 38.16, 38.16, -15.52, -15.52, -16.22, 40.84, 40.84, 34.13, 35.2, 35.2, 22.48, -14.92, -47.47, -47.47, -40.39, -17.09, -22.34, -27.68], \"lon\": [25.65, -70.51, 140.72, -173.05, 129.83, 154.71, 76.52, -68.03, 141.03, 129.94, 166.59, 166.59, 166.59, -102.92, -117.86, -117.86, -117.86, -117.86, -173.05, -173.05, 167.96, -127.33, -127.33, 25.65, 20.22, 20.22, -107.92, 66.7, -12.26, -12.26, 174.97, 167.88, -174.36, -174.9], \"marker\": {\"color\": \"yellow\", \"size\": 9}, \"mode\": \"markers\", \"text\": [[6.6, 1588423865600, \"CRETE, GREECE\"], [5.7, 1588466667700, \"SOUTHERN PERU\"], [5.6, 1588597669100, \"NEAR EAST COAST OF HONSHU, JAPAN\"], [5.8, 1589554161300, \"TONGA\"], [6.8, 1588773235300, \"BANDA SEA\"], [6.1, 1588850480900, \"BOUGAINVILLE REGION, P.N.G.\"], [5.5, 1588970740700, \"MID-INDIAN RIDGE\"], [5.5, 1589133861100, \"ANTOFAGASTA, CHILE\"], [5.8, 1589155115700, \"NEAR EAST COAST OF HONSHU, JAPAN\"], [5.6, 1589159178400, \"BANDA SEA\"], [6.6, 1589323274100, \"SANTA CRUZ ISLANDS\"], [6.6, 1589323274100, \"SANTA CRUZ ISLANDS\"], [6.6, 1589323274100, \"SANTA CRUZ ISLANDS\"], [5.7, 1589435721200, \"SOUTHEAST OF EASTER ISLAND\"], [6.5, 1589540608600, \"NEVADA\"], [6.5, 1589540608600, \"NEVADA\"], [6.5, 1589540608600, \"NEVADA\"], [6.5, 1589540608600, \"NEVADA\"], [5.8, 1589554161300, \"TONGA\"], [5.8, 1589554161300, \"TONGA\"], [5.6, 1589598947600, \"VANUATU\"], [5.5, 1589785354700, \"OFF COAST OF NORTHERN CALIFORNIA\"], [5.5, 1589785354700, \"OFF COAST OF NORTHERN CALIFORNIA\"], [6.6, 1588423865600, \"CRETE, GREECE\"], [5.8, 1590018195900, \"CENTRAL MEDITERRANEAN SEA\"], [5.8, 1590018195900, \"CENTRAL MEDITERRANEAN SEA\"], [6.1, 1590137168400, \"OFF COAST OF SINALOA, MEXICO\"], [5.6, 1590274956800, \"MID-INDIAN RIDGE\"], [5.9, 1590288743800, \"SOUTHERN MID-ATLANTIC RIDGE\"], [5.9, 1590288743800, \"SOUTHERN MID-ATLANTIC RIDGE\"], [5.5, 1590350012200, \"COOK STRAIT, NEW ZEALAND\"], [6.1, 1590563350400, \"VANUATU\"], [5.9, 1590650324600, \"TONGA REGION\"], [5.8, 1590659208100, \"KERMADEC ISLANDS REGION\"]], \"type\": \"scattermapbox\"}],\n",
       "                        {\"hovermode\": \"closest\", \"mapbox\": {\"bearing\": 0, \"center\": {\"lat\": 0, \"lon\": 0}, \"pitch\": 0, \"style\": \"stamen-terrain\", \"zoom\": 0}, \"template\": {\"data\": {\"bar\": [{\"error_x\": {\"color\": \"#2a3f5f\"}, \"error_y\": {\"color\": \"#2a3f5f\"}, \"marker\": {\"line\": {\"color\": \"#E5ECF6\", \"width\": 0.5}}, \"type\": \"bar\"}], \"barpolar\": [{\"marker\": {\"line\": {\"color\": \"#E5ECF6\", \"width\": 0.5}}, \"type\": \"barpolar\"}], \"carpet\": [{\"aaxis\": {\"endlinecolor\": \"#2a3f5f\", \"gridcolor\": \"white\", \"linecolor\": \"white\", \"minorgridcolor\": \"white\", \"startlinecolor\": \"#2a3f5f\"}, \"baxis\": {\"endlinecolor\": \"#2a3f5f\", \"gridcolor\": \"white\", \"linecolor\": \"white\", \"minorgridcolor\": \"white\", \"startlinecolor\": \"#2a3f5f\"}, \"type\": \"carpet\"}], \"choropleth\": [{\"colorbar\": {\"outlinewidth\": 0, \"ticks\": \"\"}, \"type\": \"choropleth\"}], \"contour\": [{\"colorbar\": {\"outlinewidth\": 0, \"ticks\": \"\"}, \"colorscale\": [[0.0, \"#0d0887\"], [0.1111111111111111, \"#46039f\"], [0.2222222222222222, \"#7201a8\"], [0.3333333333333333, \"#9c179e\"], [0.4444444444444444, \"#bd3786\"], [0.5555555555555556, \"#d8576b\"], [0.6666666666666666, \"#ed7953\"], [0.7777777777777778, \"#fb9f3a\"], [0.8888888888888888, \"#fdca26\"], [1.0, \"#f0f921\"]], \"type\": \"contour\"}], \"contourcarpet\": [{\"colorbar\": {\"outlinewidth\": 0, \"ticks\": \"\"}, \"type\": \"contourcarpet\"}], \"heatmap\": [{\"colorbar\": {\"outlinewidth\": 0, \"ticks\": \"\"}, \"colorscale\": [[0.0, \"#0d0887\"], [0.1111111111111111, \"#46039f\"], [0.2222222222222222, \"#7201a8\"], [0.3333333333333333, \"#9c179e\"], [0.4444444444444444, \"#bd3786\"], [0.5555555555555556, \"#d8576b\"], [0.6666666666666666, \"#ed7953\"], [0.7777777777777778, \"#fb9f3a\"], [0.8888888888888888, \"#fdca26\"], [1.0, \"#f0f921\"]], \"type\": \"heatmap\"}], \"heatmapgl\": [{\"colorbar\": {\"outlinewidth\": 0, \"ticks\": \"\"}, \"colorscale\": [[0.0, \"#0d0887\"], [0.1111111111111111, \"#46039f\"], [0.2222222222222222, \"#7201a8\"], [0.3333333333333333, \"#9c179e\"], [0.4444444444444444, \"#bd3786\"], [0.5555555555555556, \"#d8576b\"], [0.6666666666666666, \"#ed7953\"], [0.7777777777777778, \"#fb9f3a\"], [0.8888888888888888, \"#fdca26\"], [1.0, \"#f0f921\"]], \"type\": \"heatmapgl\"}], \"histogram\": [{\"marker\": {\"colorbar\": {\"outlinewidth\": 0, \"ticks\": \"\"}}, \"type\": \"histogram\"}], \"histogram2d\": [{\"colorbar\": {\"outlinewidth\": 0, \"ticks\": \"\"}, \"colorscale\": [[0.0, \"#0d0887\"], [0.1111111111111111, \"#46039f\"], [0.2222222222222222, \"#7201a8\"], [0.3333333333333333, \"#9c179e\"], [0.4444444444444444, \"#bd3786\"], [0.5555555555555556, \"#d8576b\"], [0.6666666666666666, \"#ed7953\"], [0.7777777777777778, \"#fb9f3a\"], [0.8888888888888888, \"#fdca26\"], [1.0, \"#f0f921\"]], \"type\": \"histogram2d\"}], \"histogram2dcontour\": [{\"colorbar\": {\"outlinewidth\": 0, \"ticks\": \"\"}, \"colorscale\": [[0.0, \"#0d0887\"], [0.1111111111111111, \"#46039f\"], [0.2222222222222222, \"#7201a8\"], [0.3333333333333333, \"#9c179e\"], [0.4444444444444444, \"#bd3786\"], [0.5555555555555556, \"#d8576b\"], [0.6666666666666666, \"#ed7953\"], [0.7777777777777778, \"#fb9f3a\"], [0.8888888888888888, \"#fdca26\"], [1.0, \"#f0f921\"]], \"type\": \"histogram2dcontour\"}], \"mesh3d\": [{\"colorbar\": {\"outlinewidth\": 0, \"ticks\": \"\"}, \"type\": \"mesh3d\"}], \"parcoords\": [{\"line\": {\"colorbar\": {\"outlinewidth\": 0, \"ticks\": \"\"}}, \"type\": \"parcoords\"}], \"scatter\": [{\"marker\": {\"colorbar\": {\"outlinewidth\": 0, \"ticks\": \"\"}}, \"type\": \"scatter\"}], \"scatter3d\": [{\"line\": {\"colorbar\": {\"outlinewidth\": 0, \"ticks\": \"\"}}, \"marker\": {\"colorbar\": {\"outlinewidth\": 0, \"ticks\": \"\"}}, \"type\": \"scatter3d\"}], \"scattercarpet\": [{\"marker\": {\"colorbar\": {\"outlinewidth\": 0, \"ticks\": \"\"}}, \"type\": \"scattercarpet\"}], \"scattergeo\": [{\"marker\": {\"colorbar\": {\"outlinewidth\": 0, \"ticks\": \"\"}}, \"type\": \"scattergeo\"}], \"scattergl\": [{\"marker\": {\"colorbar\": {\"outlinewidth\": 0, \"ticks\": \"\"}}, \"type\": \"scattergl\"}], \"scattermapbox\": [{\"marker\": {\"colorbar\": {\"outlinewidth\": 0, \"ticks\": \"\"}}, \"type\": \"scattermapbox\"}], \"scatterpolar\": [{\"marker\": {\"colorbar\": {\"outlinewidth\": 0, \"ticks\": \"\"}}, \"type\": \"scatterpolar\"}], \"scatterpolargl\": [{\"marker\": {\"colorbar\": {\"outlinewidth\": 0, \"ticks\": \"\"}}, \"type\": \"scatterpolargl\"}], \"scatterternary\": [{\"marker\": {\"colorbar\": {\"outlinewidth\": 0, \"ticks\": \"\"}}, \"type\": \"scatterternary\"}], \"surface\": [{\"colorbar\": {\"outlinewidth\": 0, \"ticks\": \"\"}, \"colorscale\": [[0.0, \"#0d0887\"], [0.1111111111111111, \"#46039f\"], [0.2222222222222222, \"#7201a8\"], [0.3333333333333333, \"#9c179e\"], [0.4444444444444444, \"#bd3786\"], [0.5555555555555556, \"#d8576b\"], [0.6666666666666666, \"#ed7953\"], [0.7777777777777778, \"#fb9f3a\"], [0.8888888888888888, \"#fdca26\"], [1.0, \"#f0f921\"]], \"type\": \"surface\"}], \"table\": [{\"cells\": {\"fill\": {\"color\": \"#EBF0F8\"}, \"line\": {\"color\": \"white\"}}, \"header\": {\"fill\": {\"color\": \"#C8D4E3\"}, \"line\": {\"color\": \"white\"}}, \"type\": \"table\"}]}, \"layout\": {\"annotationdefaults\": {\"arrowcolor\": \"#2a3f5f\", \"arrowhead\": 0, \"arrowwidth\": 1}, \"colorscale\": {\"diverging\": [[0, \"#8e0152\"], [0.1, \"#c51b7d\"], [0.2, \"#de77ae\"], [0.3, \"#f1b6da\"], [0.4, \"#fde0ef\"], [0.5, \"#f7f7f7\"], [0.6, \"#e6f5d0\"], [0.7, \"#b8e186\"], [0.8, \"#7fbc41\"], [0.9, \"#4d9221\"], [1, \"#276419\"]], \"sequential\": [[0.0, \"#0d0887\"], [0.1111111111111111, \"#46039f\"], [0.2222222222222222, \"#7201a8\"], [0.3333333333333333, \"#9c179e\"], [0.4444444444444444, \"#bd3786\"], [0.5555555555555556, \"#d8576b\"], [0.6666666666666666, \"#ed7953\"], [0.7777777777777778, \"#fb9f3a\"], [0.8888888888888888, \"#fdca26\"], [1.0, \"#f0f921\"]], \"sequentialminus\": [[0.0, \"#0d0887\"], [0.1111111111111111, \"#46039f\"], [0.2222222222222222, \"#7201a8\"], [0.3333333333333333, \"#9c179e\"], [0.4444444444444444, \"#bd3786\"], [0.5555555555555556, \"#d8576b\"], [0.6666666666666666, \"#ed7953\"], [0.7777777777777778, \"#fb9f3a\"], [0.8888888888888888, \"#fdca26\"], [1.0, \"#f0f921\"]]}, \"colorway\": [\"#636efa\", \"#EF553B\", \"#00cc96\", \"#ab63fa\", \"#FFA15A\", \"#19d3f3\", \"#FF6692\", \"#B6E880\", \"#FF97FF\", \"#FECB52\"], \"font\": {\"color\": \"#2a3f5f\"}, \"geo\": {\"bgcolor\": \"white\", \"lakecolor\": \"white\", \"landcolor\": \"#E5ECF6\", \"showlakes\": true, \"showland\": true, \"subunitcolor\": \"white\"}, \"hoverlabel\": {\"align\": \"left\"}, \"hovermode\": \"closest\", \"mapbox\": {\"style\": \"light\"}, \"paper_bgcolor\": \"white\", \"plot_bgcolor\": \"#E5ECF6\", \"polar\": {\"angularaxis\": {\"gridcolor\": \"white\", \"linecolor\": \"white\", \"ticks\": \"\"}, \"bgcolor\": \"#E5ECF6\", \"radialaxis\": {\"gridcolor\": \"white\", \"linecolor\": \"white\", \"ticks\": \"\"}}, \"scene\": {\"xaxis\": {\"backgroundcolor\": \"#E5ECF6\", \"gridcolor\": \"white\", \"gridwidth\": 2, \"linecolor\": \"white\", \"showbackground\": true, \"ticks\": \"\", \"zerolinecolor\": \"white\"}, \"yaxis\": {\"backgroundcolor\": \"#E5ECF6\", \"gridcolor\": \"white\", \"gridwidth\": 2, \"linecolor\": \"white\", \"showbackground\": true, \"ticks\": \"\", \"zerolinecolor\": \"white\"}, \"zaxis\": {\"backgroundcolor\": \"#E5ECF6\", \"gridcolor\": \"white\", \"gridwidth\": 2, \"linecolor\": \"white\", \"showbackground\": true, \"ticks\": \"\", \"zerolinecolor\": \"white\"}}, \"shapedefaults\": {\"line\": {\"color\": \"#2a3f5f\"}}, \"ternary\": {\"aaxis\": {\"gridcolor\": \"white\", \"linecolor\": \"white\", \"ticks\": \"\"}, \"baxis\": {\"gridcolor\": \"white\", \"linecolor\": \"white\", \"ticks\": \"\"}, \"bgcolor\": \"#E5ECF6\", \"caxis\": {\"gridcolor\": \"white\", \"linecolor\": \"white\", \"ticks\": \"\"}}, \"title\": {\"x\": 0.05}, \"xaxis\": {\"automargin\": true, \"gridcolor\": \"white\", \"linecolor\": \"white\", \"ticks\": \"\", \"zerolinecolor\": \"white\", \"zerolinewidth\": 2}, \"yaxis\": {\"automargin\": true, \"gridcolor\": \"white\", \"linecolor\": \"white\", \"ticks\": \"\", \"zerolinecolor\": \"white\", \"zerolinewidth\": 2}}}},\n",
       "                        {\"responsive\": true}\n",
       "                    ).then(function(){\n",
       "                            \n",
       "var gd = document.getElementById('5ab447bd-6f81-4097-9d78-33638b97f3d6');\n",
       "var x = new MutationObserver(function (mutations, observer) {{\n",
       "        var display = window.getComputedStyle(gd).display;\n",
       "        if (!display || display === 'none') {{\n",
       "            console.log([gd, 'removed!']);\n",
       "            Plotly.purge(gd);\n",
       "            observer.disconnect();\n",
       "        }}\n",
       "}});\n",
       "\n",
       "// Listen for the removal of the full notebook cells\n",
       "var notebookContainer = gd.closest('#notebook-container');\n",
       "if (notebookContainer) {{\n",
       "    x.observe(notebookContainer, {childList: true});\n",
       "}}\n",
       "\n",
       "// Listen for the clearing of the current output cell\n",
       "var outputEl = gd.closest('.output');\n",
       "if (outputEl) {{\n",
       "    x.observe(outputEl, {childList: true});\n",
       "}}\n",
       "\n",
       "                        })\n",
       "                };\n",
       "                });\n",
       "            </script>\n",
       "        </div>"
      ]
     },
     "metadata": {},
     "output_type": "display_data"
    }
   ],
   "source": [
    "near = QuakeNearestNeighbors(1)\n",
    "near.fit(emsc_df)\n",
    "preds = []\n",
    "targets = []\n",
    "for i, row in usgs_df.iterrows():\n",
    "    target = row\n",
    "    neighbor_index, dist = near.predict(target)\n",
    "    pred = emsc_df.iloc[neighbor_index.squeeze()]\n",
    "    if dist < 1:\n",
    "        targets.append(target)\n",
    "        preds.append(pred)\n",
    "print(len(preds))\n",
    "targets = pd.DataFrame(targets)\n",
    "preds = pd.DataFrame(preds)\n",
    "plot_quakes_mul(targets, preds)"
   ]
  },
  {
   "cell_type": "markdown",
   "metadata": {},
   "source": [
    "well that seems to work. Now I just need to apply this across a whole bunch of data"
   ]
  },
  {
   "cell_type": "code",
   "execution_count": 13,
   "metadata": {},
   "outputs": [
    {
     "name": "stdout",
     "output_type": "stream",
     "text": [
      "0\n",
      "1\n",
      "2\n",
      "3\n",
      "4\n",
      "5\n",
      "6\n",
      "7\n",
      "8\n",
      "9\n",
      "10\n",
      "11\n",
      "12\n",
      "13\n",
      "14\n",
      "15\n",
      "16\n",
      "17\n",
      "18\n",
      "19\n",
      "20\n",
      "21\n",
      "22\n",
      "23\n",
      "24\n",
      "25\n",
      "26\n",
      "27\n",
      "28\n",
      "29\n",
      "30\n",
      "31\n",
      "32\n",
      "33\n",
      "34\n",
      "35\n",
      "36\n",
      "37\n",
      "38\n",
      "39\n",
      "40\n",
      "0\n"
     ]
    }
   ],
   "source": [
    "# and now I want to check and see on a more item by item look\n",
    "\n",
    "near = QuakeNearestNeighbors(1)\n",
    "near.fit(emsc_df)\n",
    "preds = []\n",
    "for i, row in usgs_df.iterrows():\n",
    "    print(i)\n",
    "    target = row\n",
    "    neighbor_index, dist = near.predict(target)\n",
    "    pred = emsc_df.iloc[neighbor_index.squeeze()]\n",
    "    if dist < 1:\n",
    "        plot_quake(target, pred, save=True)\n",
    "print(len(preds))\n",
    "targets = pd.DataFrame(targets)\n",
    "preds = pd.DataFrame(preds)"
   ]
  },
  {
   "cell_type": "markdown",
   "metadata": {},
   "source": [
    "OK, well it looks like this is indeed working. I'm going to see about making everything pair up next.\n"
   ]
  },
  {
   "cell_type": "code",
   "execution_count": 32,
   "metadata": {},
   "outputs": [],
   "source": [
    "# I need to implement that as a class method\n",
    "class QuakeNearestNeighbors():\n",
    "    def __init__(self, neighbors):\n",
    "        self.neighbors = neighbors\n",
    "\n",
    "    def fit(self, data):\n",
    "        self.data = data\n",
    "        self.matching = data[['lat', 'lon', 'mag']].values\n",
    "\n",
    "    def predict(self, y):\n",
    "        match = y[['lat','lon','mag']].values\n",
    "        dist = spatial.distance_matrix(self.matching, [match])\n",
    "        kmin_index = np.argsort(dist, axis=0)\n",
    "        return kmin_index[:self.neighbors], dist[kmin_index[:self.neighbors]]\n",
    "    \n",
    "    def pair_quakes(self, df):\n",
    "        '''this is a reusable function after fit has been run. It takes in \n",
    "        a dataframe and then returns a list of tuples with ID's of matching \n",
    "        quakes''' \n",
    "        preds = []\n",
    "        for i, row in df.iterrows():\n",
    "            neighbor_index, dist = near.predict(row)\n",
    "            pred = emsc_df.iloc[neighbor_index.squeeze()]\n",
    "            if dist < 1:\n",
    "                preds.append((pred['id'], row['id']))\n",
    "        return preds"
   ]
  },
  {
   "cell_type": "code",
   "execution_count": 33,
   "metadata": {},
   "outputs": [
    {
     "data": {
      "text/html": [
       "<div>\n",
       "<style scoped>\n",
       "    .dataframe tbody tr th:only-of-type {\n",
       "        vertical-align: middle;\n",
       "    }\n",
       "\n",
       "    .dataframe tbody tr th {\n",
       "        vertical-align: top;\n",
       "    }\n",
       "\n",
       "    .dataframe thead th {\n",
       "        text-align: right;\n",
       "    }\n",
       "</style>\n",
       "<table border=\"1\" class=\"dataframe\">\n",
       "  <thead>\n",
       "    <tr style=\"text-align: right;\">\n",
       "      <th></th>\n",
       "      <th>EMSC</th>\n",
       "      <th>USGS</th>\n",
       "    </tr>\n",
       "  </thead>\n",
       "  <tbody>\n",
       "    <tr>\n",
       "      <th>0</th>\n",
       "      <td>103532</td>\n",
       "      <td>32863</td>\n",
       "    </tr>\n",
       "    <tr>\n",
       "      <th>1</th>\n",
       "      <td>103853</td>\n",
       "      <td>33028</td>\n",
       "    </tr>\n",
       "    <tr>\n",
       "      <th>2</th>\n",
       "      <td>103940</td>\n",
       "      <td>33494</td>\n",
       "    </tr>\n",
       "    <tr>\n",
       "      <th>3</th>\n",
       "      <td>106306</td>\n",
       "      <td>33973</td>\n",
       "    </tr>\n",
       "    <tr>\n",
       "      <th>4</th>\n",
       "      <td>104313</td>\n",
       "      <td>34232</td>\n",
       "    </tr>\n",
       "    <tr>\n",
       "      <th>5</th>\n",
       "      <td>104532</td>\n",
       "      <td>34562</td>\n",
       "    </tr>\n",
       "    <tr>\n",
       "      <th>6</th>\n",
       "      <td>104647</td>\n",
       "      <td>35018</td>\n",
       "    </tr>\n",
       "    <tr>\n",
       "      <th>7</th>\n",
       "      <td>105059</td>\n",
       "      <td>35644</td>\n",
       "    </tr>\n",
       "    <tr>\n",
       "      <th>8</th>\n",
       "      <td>105007</td>\n",
       "      <td>35775</td>\n",
       "    </tr>\n",
       "    <tr>\n",
       "      <th>9</th>\n",
       "      <td>105412</td>\n",
       "      <td>35794</td>\n",
       "    </tr>\n",
       "    <tr>\n",
       "      <th>10</th>\n",
       "      <td>105427</td>\n",
       "      <td>36653</td>\n",
       "    </tr>\n",
       "    <tr>\n",
       "      <th>11</th>\n",
       "      <td>105427</td>\n",
       "      <td>36655</td>\n",
       "    </tr>\n",
       "    <tr>\n",
       "      <th>12</th>\n",
       "      <td>105427</td>\n",
       "      <td>36657</td>\n",
       "    </tr>\n",
       "    <tr>\n",
       "      <th>13</th>\n",
       "      <td>106047</td>\n",
       "      <td>37054</td>\n",
       "    </tr>\n",
       "    <tr>\n",
       "      <th>14</th>\n",
       "      <td>106386</td>\n",
       "      <td>37437</td>\n",
       "    </tr>\n",
       "    <tr>\n",
       "      <th>15</th>\n",
       "      <td>106386</td>\n",
       "      <td>37445</td>\n",
       "    </tr>\n",
       "    <tr>\n",
       "      <th>16</th>\n",
       "      <td>106386</td>\n",
       "      <td>37449</td>\n",
       "    </tr>\n",
       "    <tr>\n",
       "      <th>17</th>\n",
       "      <td>106386</td>\n",
       "      <td>37454</td>\n",
       "    </tr>\n",
       "    <tr>\n",
       "      <th>18</th>\n",
       "      <td>106306</td>\n",
       "      <td>37560</td>\n",
       "    </tr>\n",
       "    <tr>\n",
       "      <th>19</th>\n",
       "      <td>106306</td>\n",
       "      <td>37562</td>\n",
       "    </tr>\n",
       "    <tr>\n",
       "      <th>20</th>\n",
       "      <td>106859</td>\n",
       "      <td>37992</td>\n",
       "    </tr>\n",
       "    <tr>\n",
       "      <th>21</th>\n",
       "      <td>107491</td>\n",
       "      <td>39440</td>\n",
       "    </tr>\n",
       "    <tr>\n",
       "      <th>22</th>\n",
       "      <td>107491</td>\n",
       "      <td>39444</td>\n",
       "    </tr>\n",
       "    <tr>\n",
       "      <th>23</th>\n",
       "      <td>103532</td>\n",
       "      <td>39829</td>\n",
       "    </tr>\n",
       "    <tr>\n",
       "      <th>24</th>\n",
       "      <td>107910</td>\n",
       "      <td>41042</td>\n",
       "    </tr>\n",
       "    <tr>\n",
       "      <th>25</th>\n",
       "      <td>107910</td>\n",
       "      <td>41062</td>\n",
       "    </tr>\n",
       "    <tr>\n",
       "      <th>26</th>\n",
       "      <td>108695</td>\n",
       "      <td>42065</td>\n",
       "    </tr>\n",
       "    <tr>\n",
       "      <th>27</th>\n",
       "      <td>108837</td>\n",
       "      <td>43251</td>\n",
       "    </tr>\n",
       "    <tr>\n",
       "      <th>28</th>\n",
       "      <td>109321</td>\n",
       "      <td>43342</td>\n",
       "    </tr>\n",
       "    <tr>\n",
       "      <th>29</th>\n",
       "      <td>109321</td>\n",
       "      <td>43343</td>\n",
       "    </tr>\n",
       "    <tr>\n",
       "      <th>30</th>\n",
       "      <td>109135</td>\n",
       "      <td>43896</td>\n",
       "    </tr>\n",
       "    <tr>\n",
       "      <th>31</th>\n",
       "      <td>110023</td>\n",
       "      <td>45703</td>\n",
       "    </tr>\n",
       "    <tr>\n",
       "      <th>32</th>\n",
       "      <td>110259</td>\n",
       "      <td>46378</td>\n",
       "    </tr>\n",
       "    <tr>\n",
       "      <th>33</th>\n",
       "      <td>110223</td>\n",
       "      <td>46443</td>\n",
       "    </tr>\n",
       "  </tbody>\n",
       "</table>\n",
       "</div>"
      ],
      "text/plain": [
       "      EMSC   USGS\n",
       "0   103532  32863\n",
       "1   103853  33028\n",
       "2   103940  33494\n",
       "3   106306  33973\n",
       "4   104313  34232\n",
       "5   104532  34562\n",
       "6   104647  35018\n",
       "7   105059  35644\n",
       "8   105007  35775\n",
       "9   105412  35794\n",
       "10  105427  36653\n",
       "11  105427  36655\n",
       "12  105427  36657\n",
       "13  106047  37054\n",
       "14  106386  37437\n",
       "15  106386  37445\n",
       "16  106386  37449\n",
       "17  106386  37454\n",
       "18  106306  37560\n",
       "19  106306  37562\n",
       "20  106859  37992\n",
       "21  107491  39440\n",
       "22  107491  39444\n",
       "23  103532  39829\n",
       "24  107910  41042\n",
       "25  107910  41062\n",
       "26  108695  42065\n",
       "27  108837  43251\n",
       "28  109321  43342\n",
       "29  109321  43343\n",
       "30  109135  43896\n",
       "31  110023  45703\n",
       "32  110259  46378\n",
       "33  110223  46443"
      ]
     },
     "execution_count": 33,
     "metadata": {},
     "output_type": "execute_result"
    }
   ],
   "source": [
    "# and test that it works \n",
    "nearest = QuakeNearestNeighbors(2)\n",
    "nearest.fit(emsc_df)\n",
    "pd.DataFrame(nearest.pair_quakes(usgs_df), columns=['EMSC', 'USGS'])"
   ]
  },
  {
   "cell_type": "code",
   "execution_count": 34,
   "metadata": {},
   "outputs": [],
   "source": [
    "# I pulled down all the data from my DB to run the matching algorithm\n",
    "emsc = pd.read_csv('EMSCdata.csv')\n",
    "usgs = pd.read_csv('USGSdata.csv')"
   ]
  },
  {
   "cell_type": "code",
   "execution_count": 17,
   "metadata": {},
   "outputs": [],
   "source": [
    "nearest = QuakeNearestNeighbors(1)\n",
    "nearest.fit(emsc)\n",
    "pairs = nearest.pair_quakes(usgs)"
   ]
  },
  {
   "cell_type": "code",
   "execution_count": 18,
   "metadata": {},
   "outputs": [
    {
     "data": {
      "text/plain": [
       "57"
      ]
     },
     "execution_count": 18,
     "metadata": {},
     "output_type": "execute_result"
    }
   ],
   "source": [
    "len(pairs)"
   ]
  },
  {
   "cell_type": "code",
   "execution_count": 19,
   "metadata": {},
   "outputs": [
    {
     "data": {
      "text/plain": [
       "((46117, 8), (109825, 7))"
      ]
     },
     "execution_count": 19,
     "metadata": {},
     "output_type": "execute_result"
    }
   ],
   "source": [
    "usgs.shape, emsc.shape"
   ]
  },
  {
   "cell_type": "code",
   "execution_count": 20,
   "metadata": {},
   "outputs": [],
   "source": [
    "# in 46,000 quakes only 51 match? Something is wrong with my algorithm. \n",
    "# alternately I suppose its possible that they just don't overlap that often.\n",
    "# But in my first 38 that I was playing with I got 31 matches, thats so unlikely\n",
    "# hmmm. Back to the drawing board."
   ]
  },
  {
   "cell_type": "code",
   "execution_count": null,
   "metadata": {},
   "outputs": [],
   "source": []
  }
 ],
 "metadata": {
  "kernelspec": {
   "display_name": "Python 3",
   "language": "python",
   "name": "python3"
  },
  "language_info": {
   "codemirror_mode": {
    "name": "ipython",
    "version": 3
   },
   "file_extension": ".py",
   "mimetype": "text/x-python",
   "name": "python",
   "nbconvert_exporter": "python",
   "pygments_lexer": "ipython3",
   "version": "3.7.3"
  }
 },
 "nbformat": 4,
 "nbformat_minor": 4
}

{
 "cells": [
  {
   "cell_type": "code",
   "execution_count": 1,
   "metadata": {},
   "outputs": [],
   "source": [
    "import numpy as np\n",
    "import scipy as sp\n",
    "from scipy import spatial\n",
    "import time"
   ]
  },
  {
   "cell_type": "code",
   "execution_count": 2,
   "metadata": {},
   "outputs": [],
   "source": [
    "import matplotlib.pyplot as plt\n",
    "%matplotlib inline"
   ]
  },
  {
   "cell_type": "code",
   "execution_count": 3,
   "metadata": {},
   "outputs": [
    {
     "data": {
      "text/plain": [
       "array([[1, 2],\n",
       "       [2, 3],\n",
       "       [3, 4],\n",
       "       [5, 6]])"
      ]
     },
     "execution_count": 3,
     "metadata": {},
     "output_type": "execute_result"
    }
   ],
   "source": [
    "X = np.array([[1,2],[2,3],[3,4],[5,6]])\n",
    "X"
   ]
  },
  {
   "cell_type": "code",
   "execution_count": 4,
   "metadata": {},
   "outputs": [
    {
     "data": {
      "text/plain": [
       "1.0"
      ]
     },
     "execution_count": 4,
     "metadata": {},
     "output_type": "execute_result"
    }
   ],
   "source": [
    "y = np.array([[1,3]])\n",
    "np.amin(spatial.distance_matrix(X, y))"
   ]
  },
  {
   "cell_type": "code",
   "execution_count": 5,
   "metadata": {},
   "outputs": [],
   "source": [
    "X = np.random.rand(90000,2)*500"
   ]
  },
  {
   "cell_type": "markdown",
   "metadata": {},
   "source": [
    "stime = time.time()\n",
    "for _ in range(1000):\n",
    "    y = np.random.rand(1,2)*500\n",
    "    #print(f'y value is: {y}')\n",
    "    distances = spatial.distance_matrix(X,y)\n",
    "    print(f'minimum distance is: {np.amin(distances)}')\n",
    "    print(f'it occurs at: {np.where(distances==np.amin(distances))}')\n",
    "    print(f'that point is: {X[np.where(distances==np.amin(distances))[0]]}')\n",
    "    print('---------------------')\n",
    "etime = time.time()\n",
    "print(f'that took: {etime - stime} seconds')"
   ]
  },
  {
   "cell_type": "markdown",
   "metadata": {},
   "source": [
    "That finds the value for k=1 but I think I can find the higher values of k with a single function. \n",
    "\n",
    "np.argpartition shows potential in my research"
   ]
  },
  {
   "cell_type": "code",
   "execution_count": 6,
   "metadata": {},
   "outputs": [],
   "source": [
    "class KNearestNeighbors():\n",
    "    def __init__(self, neighbors):\n",
    "        self.neighbors = neighbors\n",
    "\n",
    "    def fit(self, data):\n",
    "        self.data = data\n",
    "\n",
    "    def predict(self, y):\n",
    "        dist = spatial.distance_matrix(self.data, y)\n",
    "        kmin_index = np.argsort(dist, axis=0)\n",
    "        return self.data[kmin_index[:self.neighbors]], dist[kmin_index[:self.neighbors]]"
   ]
  },
  {
   "cell_type": "code",
   "execution_count": 65,
   "metadata": {},
   "outputs": [],
   "source": [
    "X = np.random.rand(50,2)*100\n",
    "y = np.random.rand(1,2) *100\n"
   ]
  },
  {
   "cell_type": "code",
   "execution_count": 8,
   "metadata": {},
   "outputs": [
    {
     "data": {
      "text/plain": [
       "(array([[[89.23778208, 14.72769357]],\n",
       " \n",
       "        [[94.20207273, 13.78115011]],\n",
       " \n",
       "        [[91.93642847, 14.71663078]],\n",
       " \n",
       "        [[95.32815341, 13.52245999]],\n",
       " \n",
       "        [[98.97754817,  9.66047505]]]), array([[[ 9.83502739]],\n",
       " \n",
       "        [[ 9.90785735]],\n",
       " \n",
       "        [[10.03972986]],\n",
       " \n",
       "        [[10.23912857]],\n",
       " \n",
       "        [[10.34103298]]]))"
      ]
     },
     "execution_count": 8,
     "metadata": {},
     "output_type": "execute_result"
    }
   ],
   "source": [
    "neigh = KNearestNeighbors(5)\n",
    "neigh.fit(X)\n",
    "neigh.predict(y)"
   ]
  },
  {
   "cell_type": "code",
   "execution_count": 9,
   "metadata": {},
   "outputs": [
    {
     "data": {
      "text/plain": [
       "'1.18.1'"
      ]
     },
     "execution_count": 9,
     "metadata": {},
     "output_type": "execute_result"
    }
   ],
   "source": [
    "np.__version__"
   ]
  },
  {
   "cell_type": "code",
   "execution_count": 10,
   "metadata": {},
   "outputs": [
    {
     "data": {
      "text/plain": [
       "array([[11],\n",
       "       [13],\n",
       "       [43],\n",
       "       [ 8],\n",
       "       [ 5],\n",
       "       [35],\n",
       "       [ 9],\n",
       "       [27],\n",
       "       [ 2],\n",
       "       [18],\n",
       "       [15],\n",
       "       [25],\n",
       "       [44],\n",
       "       [ 7],\n",
       "       [21],\n",
       "       [47],\n",
       "       [30],\n",
       "       [31],\n",
       "       [32],\n",
       "       [42],\n",
       "       [41],\n",
       "       [10],\n",
       "       [16],\n",
       "       [36],\n",
       "       [17],\n",
       "       [46],\n",
       "       [12],\n",
       "       [28],\n",
       "       [39],\n",
       "       [48],\n",
       "       [37],\n",
       "       [29],\n",
       "       [22],\n",
       "       [ 6],\n",
       "       [40],\n",
       "       [38],\n",
       "       [ 3],\n",
       "       [33],\n",
       "       [ 1],\n",
       "       [20],\n",
       "       [14],\n",
       "       [34],\n",
       "       [ 4],\n",
       "       [24],\n",
       "       [ 0],\n",
       "       [26],\n",
       "       [23],\n",
       "       [19],\n",
       "       [49],\n",
       "       [45]])"
      ]
     },
     "execution_count": 10,
     "metadata": {},
     "output_type": "execute_result"
    }
   ],
   "source": [
    "# figuring out how argsort works\n",
    "dist = spatial.distance_matrix(X, y)\n",
    "np.argsort(dist, axis=0)"
   ]
  },
  {
   "cell_type": "code",
   "execution_count": 11,
   "metadata": {},
   "outputs": [
    {
     "data": {
      "text/plain": [
       "array([55.11003843, 56.17707939, 52.96493333, 46.4925657 , 58.88553427,\n",
       "       67.1187893 , 68.47352041, 47.64356225, 62.67550546, 60.58069125,\n",
       "       57.02978415, 58.85695895, 64.98020494, 61.86917396, 56.23302999,\n",
       "       46.25296734, 63.70931693, 42.49734705, 47.29862367, 70.52186141,\n",
       "       72.33243538, 60.79339698, 55.77293814, 63.10036258, 66.74341433,\n",
       "       48.28896013, 53.8086898 , 55.10441852, 44.28360275, 44.86386774,\n",
       "       41.56149918, 53.41330556, 55.91895904, 46.9382302 , 66.26000559,\n",
       "       51.2852384 , 56.44119544, 44.45985238, 50.06421607, 63.39458764,\n",
       "       46.1993393 , 52.51403146, 49.36287271, 60.16736716, 49.14266421,\n",
       "       74.02132149, 46.63317667, 44.00967469, 44.72127389, 73.77551919])"
      ]
     },
     "execution_count": 11,
     "metadata": {},
     "output_type": "execute_result"
    }
   ],
   "source": [
    "# working out getting average distance\n",
    "distances = []\n",
    "for x in X:\n",
    "    y = spatial.distance_matrix(X, x.reshape(1,2))\n",
    "    distances.append(np.squeeze(y))\n",
    "np.array(distances).mean(0)"
   ]
  },
  {
   "cell_type": "code",
   "execution_count": 12,
   "metadata": {},
   "outputs": [
    {
     "data": {
      "text/plain": [
       "array([[ 0.        ],\n",
       "       [60.53615435],\n",
       "       [69.86964173],\n",
       "       [19.86314309],\n",
       "       [63.36649036],\n",
       "       [95.74001049],\n",
       "       [54.22320507],\n",
       "       [53.12264838],\n",
       "       [90.49631502],\n",
       "       [82.36688407],\n",
       "       [51.82010409],\n",
       "       [86.21738284],\n",
       "       [90.022897  ],\n",
       "       [89.65819938],\n",
       "       [12.52385945],\n",
       "       [66.58571231],\n",
       "       [90.65481991],\n",
       "       [28.94798392],\n",
       "       [69.1723528 ],\n",
       "       [44.48878895],\n",
       "       [50.35499317],\n",
       "       [89.1355225 ],\n",
       "       [70.89527768],\n",
       "       [13.03653015],\n",
       "       [34.01998499],\n",
       "       [60.82681559],\n",
       "       [33.61415163],\n",
       "       [74.62378961],\n",
       "       [21.26121431],\n",
       "       [38.27443994],\n",
       "       [46.88564845],\n",
       "       [76.45778607],\n",
       "       [80.84738625],\n",
       "       [17.07511998],\n",
       "       [80.01552364],\n",
       "       [72.43032176],\n",
       "       [47.12492767],\n",
       "       [35.71301208],\n",
       "       [12.70207696],\n",
       "       [86.52614992],\n",
       "       [17.62265073],\n",
       "       [45.15204373],\n",
       "       [41.42591953],\n",
       "       [87.64306523],\n",
       "       [72.45145901],\n",
       "       [41.7989797 ],\n",
       "       [51.76236569],\n",
       "       [56.65227956],\n",
       "       [38.96063531],\n",
       "       [40.53525758]])"
      ]
     },
     "execution_count": 12,
     "metadata": {},
     "output_type": "execute_result"
    }
   ],
   "source": [
    "# figuring out how distance matrix works\n",
    "y = X[0].reshape(1,2)\n",
    "spatial.distance_matrix(X, y)"
   ]
  },
  {
   "cell_type": "code",
   "execution_count": 13,
   "metadata": {},
   "outputs": [],
   "source": [
    "from k_means_clustering import KMeansClustering"
   ]
  },
  {
   "cell_type": "code",
   "execution_count": 54,
   "metadata": {},
   "outputs": [],
   "source": [
    "def get_distances(X):\n",
    "        '''this little helper function builds out the \n",
    "        distances matrix'''\n",
    "        distances = []\n",
    "        for x in X:\n",
    "            y = spatial.distance_matrix(X, x.reshape(1,2))\n",
    "            distances.append(np.squeeze(y))\n",
    "        distances = np.array(distances)\n",
    "        return distances, distances.mean(0)"
   ]
  },
  {
   "cell_type": "code",
   "execution_count": 93,
   "metadata": {},
   "outputs": [],
   "source": [
    "k = 3\n",
    "cluster = KMeansClustering(k)\n",
    "# cluster.fit(X)\n",
    "X = np.random.rand(50,2)*100\n",
    "x, y = X.T"
   ]
  },
  {
   "cell_type": "code",
   "execution_count": 98,
   "metadata": {},
   "outputs": [
    {
     "name": "stdout",
     "output_type": "stream",
     "text": [
      "in loop\n"
     ]
    },
    {
     "data": {
      "image/png": "[encoded data removed]",
      "text/plain": [
       "<Figure size 432x288 with 1 Axes>"
      ]
     },
     "metadata": {
      "needs_background": "light"
     },
     "output_type": "display_data"
    },
    {
     "name": "stdout",
     "output_type": "stream",
     "text": [
      "in loop\n"
     ]
    },
    {
     "data": {
      "image/png": "[encoded data removed]",
      "text/plain": [
       "<Figure size 432x288 with 1 Axes>"
      ]
     },
     "metadata": {
      "needs_background": "light"
     },
     "output_type": "display_data"
    },
    {
     "name": "stdout",
     "output_type": "stream",
     "text": [
      "in loop\n"
     ]
    },
    {
     "data": {
      "image/png": "[encoded data removed]",
      "text/plain": [
       "<Figure size 432x288 with 1 Axes>"
      ]
     },
     "metadata": {
      "needs_background": "light"
     },
     "output_type": "display_data"
    },
    {
     "name": "stdout",
     "output_type": "stream",
     "text": [
      "in loop\n"
     ]
    },
    {
     "data": {
      "image/png": "[encoded data removed]",
      "text/plain": [
       "<Figure size 432x288 with 1 Axes>"
      ]
     },
     "metadata": {
      "needs_background": "light"
     },
     "output_type": "display_data"
    },
    {
     "name": "stdout",
     "output_type": "stream",
     "text": [
      "in loop\n"
     ]
    },
    {
     "data": {
      "image/png": "[encoded data removed]",
      "text/plain": [
       "<Figure size 432x288 with 1 Axes>"
      ]
     },
     "metadata": {
      "needs_background": "light"
     },
     "output_type": "display_data"
    },
    {
     "name": "stdout",
     "output_type": "stream",
     "text": [
      "in loop\n"
     ]
    },
    {
     "data": {
      "image/png": "[encoded data removed]",
      "text/plain": [
       "<Figure size 432x288 with 1 Axes>"
      ]
     },
     "metadata": {
      "needs_background": "light"
     },
     "output_type": "display_data"
    },
    {
     "data": {
      "text/plain": [
       "<matplotlib.collections.PathCollection at 0x130cfaf60>"
      ]
     },
     "execution_count": 98,
     "metadata": {},
     "output_type": "execute_result"
    },
    {
     "data": {
      "image/png": "[encoded data removed]",
      "text/plain": [
       "<Figure size 432x288 with 1 Axes>"
      ]
     },
     "metadata": {
      "needs_background": "light"
     },
     "output_type": "display_data"
    }
   ],
   "source": [
    "# Select K random points from x \n",
    "# to grab a random row from numpy one has to generate a number then grab that row\n",
    "c_ids = np.random.randint(X.shape[0], size=k)\n",
    "centers = X[c_ids]\n",
    "previous = np.random.rand(k, 2).squeeze()\n",
    "\n",
    "while np.all(previous != centers):\n",
    "    print('in loop')\n",
    "    previous = centers.copy()\n",
    "    # this part needs to loop\n",
    "    # get the distance from each point to the center\n",
    "    distances = spatial.distance_matrix(X, centers)\n",
    "    # Assign to centers\n",
    "    assignments = np.argmin(distances, axis=1)\n",
    "\n",
    "    #display the data\n",
    "    plt.scatter(x, y, c=assignments)\n",
    "    # Calculate new means\n",
    "    for i in range(k):\n",
    "        distances, means = get_distances(X[assignments == i])\n",
    "        centers[i] = X[np.argmin(means)]\n",
    "        \n",
    "    cx, cy = centers.T\n",
    "    plt.scatter(cx, cy, c='r')\n",
    "    plt.show()\n",
    "\n",
    "\n",
    "plt.scatter(x, y, c=assignments)\n",
    "plt.scatter(cx, cy, c='r')"
   ]
  },
  {
   "cell_type": "code",
   "execution_count": 80,
   "metadata": {},
   "outputs": [
    {
     "data": {
      "text/plain": [
       "array([[69.69037489,  2.58358979],\n",
       "       [79.81284797,  6.28308597],\n",
       "       [92.5973111 ,  0.4368599 ],\n",
       "       [99.96454152, 22.57617486]])"
      ]
     },
     "execution_count": 80,
     "metadata": {},
     "output_type": "execute_result"
    }
   ],
   "source": [
    "X[assignments == 2]"
   ]
  },
  {
   "cell_type": "code",
   "execution_count": 81,
   "metadata": {},
   "outputs": [
    {
     "data": {
      "text/plain": [
       "array([11.64567789, 23.3949337 ])"
      ]
     },
     "execution_count": 81,
     "metadata": {},
     "output_type": "execute_result"
    }
   ],
   "source": [
    "centers[2]"
   ]
  },
  {
   "cell_type": "code",
   "execution_count": null,
   "metadata": {},
   "outputs": [],
   "source": []
  }
 ],
 "metadata": {
  "kernelspec": {
   "display_name": "Python 3",
   "language": "python",
   "name": "python3"
  },
  "language_info": {
   "codemirror_mode": {
    "name": "ipython",
    "version": 3
   },
   "file_extension": ".py",
   "mimetype": "text/x-python",
   "name": "python",
   "nbconvert_exporter": "python",
   "pygments_lexer": "ipython3",
   "version": "3.7.3"
  }
 },
 "nbformat": 4,
 "nbformat_minor": 4
}
